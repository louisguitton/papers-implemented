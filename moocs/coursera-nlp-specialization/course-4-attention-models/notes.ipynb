{
 "cells": [
  {
   "cell_type": "markdown",
   "metadata": {},
   "source": [
    "# Week 1: Neural Machine Translation\n",
    "\n",
    "- Seq2Seq suffers for long sentences because it has a fixed-termed memory length. Attention was brought up to get around that issue. (=it gives more weight to important words)\n",
    "- Alignment is used for word sense disambiguation\n",
    "- metaphor for attention's key, query, value triplet: \"Mom, I'm looking for my keys.\" then Mom thinks about the usual places your keys are and tells you what it the most likely place to find your keys. Attention is like a process to save time by looking in the place where the key is the most likely to be. \n",
    "- Keys and values are pairs, both coming from the encoder hidden state, whiles queries come from the decoder hidden states.\n",
    "\n",
    "- Teacher forcing provides faster training and higher accuracy by allowing the model to use the decoder’s actual output to compare its predictions against\n",
    "- Evaluate machine translation models with BLEU and ROUGE scores\n",
    "- to sample and decode, there are multiple methods like :\n",
    "    - beam search which uses conditional probabilities and the beam width parameter\n",
    "    - MBR (minimum Bayes risk) takes several samples and compare them against each other to find the golden one\n",
    "    - greedy decoding \n",
    "    - random sampling"
   ]
  },
  {
   "cell_type": "code",
   "execution_count": null,
   "metadata": {},
   "outputs": [],
   "source": []
  }
 ],
 "metadata": {
  "kernelspec": {
   "display_name": "Python 3",
   "language": "python",
   "name": "python3"
  },
  "language_info": {
   "codemirror_mode": {
    "name": "ipython",
    "version": 3
   },
   "file_extension": ".py",
   "mimetype": "text/x-python",
   "name": "python",
   "nbconvert_exporter": "python",
   "pygments_lexer": "ipython3",
   "version": "3.8.5"
  }
 },
 "nbformat": 4,
 "nbformat_minor": 4
}
