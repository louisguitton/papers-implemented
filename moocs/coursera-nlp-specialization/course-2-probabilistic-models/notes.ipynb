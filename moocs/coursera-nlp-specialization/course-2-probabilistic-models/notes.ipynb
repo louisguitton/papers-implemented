{
 "cells": [
  {
   "cell_type": "markdown",
   "metadata": {},
   "source": [
    "## Week 1: Autocorrect\n",
    "\n",
    "token alignment <=> dynamic programming levenhstein distance\n",
    "\n",
    "## Week 2: Part of speech tagging with HMM and Viterbi\n",
    "\n",
    "\\begin{gather*}\n",
    "Transition\\ proba\\ \\times \\ Emission\\ proba\\\\\n",
    "\\begin{cases}\n",
    "P( t_{i} |t_{i-1}) \\times P( \\omega _{i} |t_{i})\\\\\n",
    "P( t_{i} |t_{i-1}) \\ =\\ \\frac{C( t_{i} ,t_{i-1}) +\\alpha }{C( t_{i-1}) +N_{t} \\cdot \\alpha }\\\\\n",
    "P( \\omega _{i} |t_{i}) \\ =\\ \\frac{C( t_{i} ,\\omega _{i}) +\\alpha }{C( t_{i}) +N_{\\omega } \\cdot \\alpha }\n",
    "\\end{cases}\n",
    "\\end{gather*}\n",
    "\n",
    "## Week 3: Autocomplete with n-gram language model"
   ]
  },
  {
   "cell_type": "code",
   "execution_count": null,
   "metadata": {},
   "outputs": [],
   "source": []
  }
 ],
 "metadata": {
  "kernelspec": {
   "display_name": "Python 3",
   "language": "python",
   "name": "python3"
  },
  "language_info": {
   "codemirror_mode": {
    "name": "ipython",
    "version": 3
   },
   "file_extension": ".py",
   "mimetype": "text/x-python",
   "name": "python",
   "nbconvert_exporter": "python",
   "pygments_lexer": "ipython3",
   "version": "3.8.5"
  }
 },
 "nbformat": 4,
 "nbformat_minor": 4
}
