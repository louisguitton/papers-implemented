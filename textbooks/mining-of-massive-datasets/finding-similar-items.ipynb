{
 "cells": [
  {
   "cell_type": "markdown",
   "metadata": {},
   "source": [
    "# 3 Finding Similar Items\n",
    "\n",
    "http://infolab.stanford.edu/~ullman/mmds/ch3.pdf"
   ]
  },
  {
   "cell_type": "code",
   "execution_count": 19,
   "metadata": {},
   "outputs": [],
   "source": [
    "# https://beta.onefootball.com/fr/news/jean-tigana-rend-hommage-a-michel-hidalgo-29565506\n",
    "text1 = \"\"\"\n",
    "Jean Tigana rend hommage à Michel Hidalgo\n",
    "\n",
    "Le football français a perdu un monument de son histoire Ce jeudi après-midi, une de ses plus grandes figures a rendu l’âme en la personne de Michel Hidalgo. L’homme qui a offert à l’Equipe de France son tout premier titre majeur en 1984, avec la conquête de l’Euro à domicile, est décédé à 87 ans à Marseille. Une disparition qui marque tout une génération. L'ancien sélectionneur a reçu de nombreux hommages et notamment de ses anciens joueurs.\n",
    "\n",
    "Giresse : \"Hidalgo a donné une identité à l’Equipe de France\"\n",
    "International français entre 1980 et 1988, Jean Tigana a réalisé une grande partie de sa carrière internationale sous les ordres de Michel Hidalgo. L'ancien milieu de terrain de Bordeaux, devenu entraîneur depuis, a été champion d'Europe en 1984 avec l'équipe de France, avec comme sélectionneur Michel Hidalgo. Jean Tigana lui a rendu hommage après sa disparition ce jeudi à l'âge de 87 ans à Marseille, des propos accordés à l'AFP.\n",
    "\n",
    "Amoros : \"On perd un très grand Monsieur\"\n",
    "\"C'est une grande tristesse, car c'est quelqu'un qui arrivait à fédérer comme personne. En un coup de fil, il pouvait tous nous réunir. C'est quelqu'un qui était respecté de tous. Ce qui nous marquait chez Michel, c'est son côté humain. Il déléguait énormément, sur le terrain et dans la gestion du groupe, mais il trouvait tout le temps les bons mots. Pour encourager, pour consoler, il savait toujours nous parler. C'était impressionnant chez lui. Avec le président (de la Fédération) Fernand Sastre, ils ont donné du dynamisme au football français, ils ont réussi à lui faire franchir des étapes en prenant pourtant des risques énormes dans le jeu\", a déclaré l'ancien milieu de terrain.\n",
    "\n",
    "Zidane rend hommage à Hidalgo : \"Un grand monsieur\"\n",
    "Manuel Amoros lui a également rendu hommage : \"C'est quelqu'un qui a énormément compté pour moi. Il m'a donné ma chance à 20 ans et m'a permis de disputer la Coupe du monde en 1982. On perd un très grand Monsieur, qui a fait avancer le football français. C'était un homme de dialogue, qui aimait beaucoup discuter avec ses joueurs avant d'agir, en particulier sur le terrain d'entraînement. Il cherchait avant tout à comprendre comment fonctionnait l'homme, puis il analysait le joueur et c'est la clé de son succès\".\n",
    "\n",
    "Autre poulain de Michel Hidalgo, Daniel Bravo a également eu une pensée pour l'ancien sélectionneur : \"Michel Hidalgo fait partie de mes papas du football. Il m'a sélectionné pour la première fois à tout juste 19 ans. Il a même continué à me sélectionner lors de la saison suivante, alors que j'avais été relégué en D2 avec Nice, et certains s'en étaient plaints. Il m'a toujours protégé et a bien expliqué les choses. Quand il ne m'a pas sélectionné pour la Coupe du monde 1982, il a pris le temps de m'envoyer un mot pour m'expliquer que j'avais le temps, qu'il ne fallait pas brûler les étapes et cela m'avait touché. Il avait un très grand coeur, il était hyper-humain et aimait vraiment ses joueurs\".\n",
    "\"\"\""
   ]
  },
  {
   "cell_type": "code",
   "execution_count": 20,
   "metadata": {},
   "outputs": [],
   "source": [
    "# https://beta.onefootball.com/fr/news/quand-la-france-remportait-leuro-84-avec-hidalgo-29562982\n",
    "text2 = \"\"\"\n",
    "📽Quand la France remportait l'Euro 84 avec Hidalgo 🇫🇷\n",
    "\n",
    "Le sélectionneur Michel Hidalgo est mort jeudi à l’âge de 87 ans.\n",
    "\n",
    "Sa plus grande heure de gloire restera la victoire finale à l’Euro 1984 face à l’Espagne. Une nuit légendaire pour un homme qui l’est tout autant. Michel Platini, chef de file émérite des Bleus sur la pelouse, ne dira pas le contraire.\n",
    "\"\"\""
   ]
  },
  {
   "cell_type": "code",
   "execution_count": 21,
   "metadata": {},
   "outputs": [],
   "source": [
    "# https://beta.onefootball.com/fr/news/mercato-psg-forlan-verrait-bien-cavani-a-boca-juniors-29571298\n",
    "text3 = \"\"\"\n",
    "Mercato - PSG : Forlan verrait bien Cavani à Boca Juniors\n",
    "\n",
    "L'histoire d'amour entre Edinson Cavani et le PSG semble toucher à sa fin, alors que l'attaquant uruguayen de 33 ans arrive en fin de contrat en juin prochain. Après avoir tenté de rejoindre l'Atlético Madrid cet hiver, il sera désormais libre de choisir sa future destination.\n",
    "\n",
    "L'un de ses illustres anciens coéquipiers avec la Céleste, Diego Forlan, a sa petite idée sur la question, même s'il reconnaît qu'elle sera difficile à réaliser. Interrogé par l'émission Como te vaa, Benedetto, le meilleur joueur de la Coupe du monde 2010 a répondu qu'il verrait bien le Matador signer en Argentine.\n",
    "\n",
    "\"J'imagine Edinson Cavani jouant pour Boca, a-t-il ainsi déclaré. Il fait partie de l'élite des footballeurs. Mais ce sera difficile pour des raisons économiques car il est à son zénith. Du point de vue professionnel ce serait un beau et très grand défi.\n",
    "\n",
    "Diego Forlán en @Comotevaok “#Boca y #River son equipos pesados de América que pelean por títulos locales e internacionales y tienen mucha visibilidad. A pesar de que pagan muy bien para lo que es medio regional, no se compara con lo que ganan allá\". https://t.co/mnckh40DYO\n",
    "\n",
    "— ¿Cómo te vaa, Benedetto? (@Comotevaok) March 27, 2020\n",
    "\"Boca et River sont de grandes équipes d'Amérique et se battent pour les titres nationaux et internationaux. Ils payent bien à l'échelle régionale, a souligné Diego Forlan. Mais ce n'est pas comparable à ce qu'il gagne en Europe.\"\n",
    "\n",
    "Dans le même temps, Cavani aurait plusieurs prétendants en Europe, à commencer par l'Atlético Madrid qui avait donc déjà fait parvenir une offre cet hiver au PSG. Il est également suivi par des clubs de Premier League.\n",
    "\"\"\""
   ]
  },
  {
   "cell_type": "code",
   "execution_count": 171,
   "metadata": {},
   "outputs": [],
   "source": [
    "texts = {\n",
    "    \"29565506\": text1,\n",
    "    \"29562982\": text2,\n",
    "    \"29571298\": text3\n",
    "}"
   ]
  },
  {
   "cell_type": "markdown",
   "metadata": {},
   "source": [
    "# Shingling"
   ]
  },
  {
   "cell_type": "code",
   "execution_count": 15,
   "metadata": {},
   "outputs": [],
   "source": [
    "import spacy\n",
    "from textacy import preprocessing as textacy_preprocessing"
   ]
  },
  {
   "cell_type": "code",
   "execution_count": 170,
   "metadata": {},
   "outputs": [],
   "source": [
    "def preprocess(text):\n",
    "    return textacy_preprocessing.normalize.normalize_whitespace(\n",
    "        textacy_preprocessing.normalize.normalize_quotation_marks(\n",
    "            text\n",
    "        )\n",
    "    )"
   ]
  },
  {
   "cell_type": "code",
   "execution_count": 54,
   "metadata": {},
   "outputs": [],
   "source": [
    "nlp = spacy.load('fr')"
   ]
  },
  {
   "cell_type": "code",
   "execution_count": 55,
   "metadata": {},
   "outputs": [],
   "source": [
    "def news_shingles(doc):\n",
    "    shingles = []\n",
    "    for idx, token in enumerate(doc):\n",
    "        if token.is_stop:\n",
    "            shingles.append(\" \".join([token.lower_, token.nbor().lower_, token.nbor().nbor().lower_]))\n",
    "    doc.set_extension(\"shingles\", default={}, force=True)\n",
    "    doc._.shingles = set(shingles)\n",
    "    return doc"
   ]
  },
  {
   "cell_type": "code",
   "execution_count": 56,
   "metadata": {},
   "outputs": [],
   "source": [
    "nlp.add_pipe(news_shingles, last=True)"
   ]
  },
  {
   "cell_type": "code",
   "execution_count": 57,
   "metadata": {},
   "outputs": [
    {
     "data": {
      "text/plain": [
       "[('tagger', <spacy.pipeline.pipes.Tagger at 0x152e0a8d0>),\n",
       " ('parser', <spacy.pipeline.pipes.DependencyParser at 0x117869440>),\n",
       " ('ner', <spacy.pipeline.pipes.EntityRecognizer at 0x1178692f0>),\n",
       " ('news_shingles', <function __main__.news_shingles(doc)>)]"
      ]
     },
     "execution_count": 57,
     "metadata": {},
     "output_type": "execute_result"
    }
   ],
   "source": [
    "nlp.pipeline"
   ]
  },
  {
   "cell_type": "code",
   "execution_count": 172,
   "metadata": {},
   "outputs": [
    {
     "data": {
      "text/plain": [
       "{'a -t -il',\n",
       " 'a pesar de',\n",
       " \"a répondu qu'\",\n",
       " 'a sa petite',\n",
       " 'a souligné diego',\n",
       " 'ainsi déclaré .',\n",
       " \"alors que l'\",\n",
       " 'après avoir tenté',\n",
       " 'au psg .',\n",
       " 'aurait plusieurs prétendants',\n",
       " 'avait donc déjà',\n",
       " 'avec la céleste',\n",
       " 'avoir tenté de',\n",
       " 'beau et très',\n",
       " 'bien cavani à',\n",
       " 'bien le matador',\n",
       " 'bien para lo',\n",
       " \"bien à l'\",\n",
       " 'car il est',\n",
       " \"ce n' est\",\n",
       " \"ce qu' il\",\n",
       " 'ce sera difficile',\n",
       " 'ce serait un',\n",
       " 'cet hiver ,',\n",
       " 'cet hiver au',\n",
       " 'comparable à ce',\n",
       " \"d' amour entre\",\n",
       " \"d' amérique et\",\n",
       " 'dans le même',\n",
       " 'de 33 ans',\n",
       " 'de américa que',\n",
       " 'de choisir sa',\n",
       " 'de contrat en',\n",
       " 'de grandes équipes',\n",
       " \"de l' élite\",\n",
       " 'de la coupe',\n",
       " 'de premier league',\n",
       " 'de que pagan',\n",
       " \"de rejoindre l'\",\n",
       " 'de ses illustres',\n",
       " 'de vue professionnel',\n",
       " 'des clubs de',\n",
       " 'des footballeurs .',\n",
       " 'des raisons économiques',\n",
       " 'donc déjà fait',\n",
       " 'du monde 2010',\n",
       " 'du point de',\n",
       " 'désormais libre de',\n",
       " 'elle sera difficile',\n",
       " 'en @comotevaok \"',\n",
       " 'en argentine .',\n",
       " 'en europe ,',\n",
       " 'en europe .',\n",
       " 'en fin de',\n",
       " 'en juin prochain',\n",
       " 'entre edinson cavani',\n",
       " 'es medio regional',\n",
       " 'est pas comparable',\n",
       " 'est à son',\n",
       " 'est également suivi',\n",
       " 'et internationaux .',\n",
       " 'et le psg',\n",
       " 'et river sont',\n",
       " 'et se battent',\n",
       " 'et très grand',\n",
       " 'fait partie de',\n",
       " 'fait parvenir une',\n",
       " 'il est à',\n",
       " 'il est également',\n",
       " 'il fait partie',\n",
       " 'il gagne en',\n",
       " \"il reconnaît qu'\",\n",
       " 'il sera désormais',\n",
       " 'il verrait bien',\n",
       " 'ils payent bien',\n",
       " \"j' imagine edinson\",\n",
       " \"l' atlético madrid\",\n",
       " \"l' attaquant uruguayen\",\n",
       " \"l' histoire d'\",\n",
       " \"l' un de\",\n",
       " \"l' échelle régionale\",\n",
       " \"l' élite des\",\n",
       " \"l' émission como\",\n",
       " 'la coupe du',\n",
       " 'la céleste ,',\n",
       " 'la question ,',\n",
       " 'le matador signer',\n",
       " 'le meilleur joueur',\n",
       " 'le même temps',\n",
       " 'le psg semble',\n",
       " 'les titres nationaux',\n",
       " \"mais ce n'\",\n",
       " 'mais ce sera',\n",
       " \"même s' il\",\n",
       " 'même temps ,',\n",
       " \"n' est pas\",\n",
       " 'par des clubs',\n",
       " \"par l' atlético\",\n",
       " \"par l' émission\",\n",
       " 'pas comparable à',\n",
       " 'plusieurs prétendants en',\n",
       " 'pour boca ,',\n",
       " 'pour des raisons',\n",
       " 'pour les titres',\n",
       " 'premier league .',\n",
       " \"qu' elle sera\",\n",
       " \"qu' il gagne\",\n",
       " \"qu' il verrait\",\n",
       " 'que es medio',\n",
       " 'que ganan allá',\n",
       " \"que l' attaquant\",\n",
       " 'que pagan muy',\n",
       " 'que pelean por',\n",
       " 'qui avait donc',\n",
       " \"s' il reconnaît\",\n",
       " 'sa fin ,',\n",
       " 'sa future destination',\n",
       " 'sa petite idée',\n",
       " 'se battent pour',\n",
       " 'se compara con',\n",
       " 'semble toucher à',\n",
       " 'sera difficile pour',\n",
       " 'sera difficile à',\n",
       " 'sera désormais libre',\n",
       " 'serait un beau',\n",
       " 'ses illustres anciens',\n",
       " 'son equipos pesados',\n",
       " 'son zénith .',\n",
       " 'sont de grandes',\n",
       " 'sur la question',\n",
       " 'te vaa ,',\n",
       " 'très grand défi',\n",
       " 'un beau et',\n",
       " 'un de ses',\n",
       " 'une offre cet',\n",
       " 'à boca juniors',\n",
       " \"à ce qu'\",\n",
       " 'à commencer par',\n",
       " \"à l' échelle\",\n",
       " 'à réaliser .',\n",
       " 'à sa fin',\n",
       " 'à son zénith'}"
      ]
     },
     "execution_count": 172,
     "metadata": {},
     "output_type": "execute_result"
    }
   ],
   "source": [
    "doc = nlp(preprocess(texts[\"29571298\"]))\n",
    "doc._.shingles"
   ]
  },
  {
   "cell_type": "markdown",
   "metadata": {},
   "source": [
    "# Minhashing and Locality Sensitive Hashing\n",
    "\n",
    "- Create a function that outputs a MinHashLSH model\n",
    "- Create a function that outputs predictions given the previously obtained model. This output is a list of lists that for each document ID outputs all document IDs which are over the required similarity threshold.\n",
    "- For each prediction list generate all possible pairs of IDs using `itertools.combinations(i, 2)` where i is the predicted ID list for a certain document.\n",
    "- Create connected nodes (which will be our clusters) using networkx module:\n",
    "    ```python\n",
    "    import networkx as nx\n",
    "    G = nx.Graph() # build node graph\n",
    "    G.add_edges_from(flat_list) \n",
    "    ```\n",
    "- Get every cluster's IDs using:\n",
    "    ```python\n",
    "    clusters = list(nx.connected_components(G))\n",
    "    ```\n",
    "- Loop through the clusters ID and assign each element a unique cluster label.\n"
   ]
  },
  {
   "cell_type": "code",
   "execution_count": 153,
   "metadata": {},
   "outputs": [],
   "source": [
    "import itertools\n",
    "\n",
    "from datasketch import MinHash, MinHashLSH\n",
    "import networkx as nx\n",
    "import matplotlib.pyplot as plt"
   ]
  },
  {
   "cell_type": "code",
   "execution_count": 128,
   "metadata": {},
   "outputs": [],
   "source": [
    "def minhashing(doc):\n",
    "    m = MinHash(num_perm=128)\n",
    "    for d in doc._.shingles:\n",
    "        m.update(d.encode('utf8'))\n",
    "    doc.set_extension(\"minhash\", default=None, force=True)\n",
    "    doc._.minhash = m\n",
    "    return doc"
   ]
  },
  {
   "cell_type": "code",
   "execution_count": 129,
   "metadata": {},
   "outputs": [],
   "source": [
    "nlp.add_pipe(minhashing, last=True)"
   ]
  },
  {
   "cell_type": "code",
   "execution_count": 173,
   "metadata": {},
   "outputs": [],
   "source": [
    "corpus = {k: nlp(preprocess(v)) for k, v in texts.items()}"
   ]
  },
  {
   "cell_type": "code",
   "execution_count": 174,
   "metadata": {},
   "outputs": [],
   "source": [
    "# Create LSH index\n",
    "lsh = MinHashLSH(threshold=0.05, num_perm=128)\n",
    "\n",
    "for k, v in corpus.items():\n",
    "    lsh.insert(k, v._.minhash)"
   ]
  },
  {
   "cell_type": "code",
   "execution_count": 177,
   "metadata": {},
   "outputs": [
    {
     "data": {
      "text/plain": [
       "['29562982', '29565506']"
      ]
     },
     "execution_count": 177,
     "metadata": {},
     "output_type": "execute_result"
    }
   ],
   "source": [
    "lsh.query(corpus[\"29565506\"]._.minhash)"
   ]
  },
  {
   "cell_type": "code",
   "execution_count": 178,
   "metadata": {},
   "outputs": [],
   "source": [
    "nodes = corpus.keys()"
   ]
  },
  {
   "cell_type": "code",
   "execution_count": 179,
   "metadata": {},
   "outputs": [],
   "source": [
    "edges = [edge for node in nodes for edge in itertools.combinations(lsh.query(corpus[node]._.minhash), 2)]"
   ]
  },
  {
   "cell_type": "code",
   "execution_count": 180,
   "metadata": {},
   "outputs": [],
   "source": [
    "G = nx.Graph() # build node graph\n",
    "G.add_nodes_from(nodes)\n",
    "G.add_edges_from(edges) "
   ]
  },
  {
   "cell_type": "code",
   "execution_count": 181,
   "metadata": {},
   "outputs": [
    {
     "data": {
      "text/plain": [
       "{'29565506': Text(0.2646120917652154, -0.6199112239886737, '29565506'),\n",
       " '29562982': Text(0.3387850245009871, -0.3800887760113262, '29562982'),\n",
       " '29571298': Text(-0.6033971162662024, 1.0, '29571298')}"
      ]
     },
     "execution_count": 181,
     "metadata": {},
     "output_type": "execute_result"
    },
    {
     "data": {
      "image/png": "[encoded data removed]",
      "text/plain": [
       "<Figure size 432x288 with 1 Axes>"
      ]
     },
     "metadata": {},
     "output_type": "display_data"
    }
   ],
   "source": [
    "pos = nx.spring_layout(G) # positions for all nodes\n",
    "nx.draw(G, pos=pos)\n",
    "nx.draw_networkx_labels(G, pos=pos)"
   ]
  },
  {
   "cell_type": "code",
   "execution_count": 182,
   "metadata": {},
   "outputs": [],
   "source": [
    "clusters = list(nx.connected_components(G))"
   ]
  },
  {
   "cell_type": "code",
   "execution_count": 183,
   "metadata": {},
   "outputs": [
    {
     "data": {
      "text/plain": [
       "[{'29562982', '29565506'}, {'29571298'}]"
      ]
     },
     "execution_count": 183,
     "metadata": {},
     "output_type": "execute_result"
    }
   ],
   "source": [
    "clusters"
   ]
  },
  {
   "cell_type": "code",
   "execution_count": null,
   "metadata": {},
   "outputs": [],
   "source": []
  }
 ],
 "metadata": {
  "kernelspec": {
   "display_name": "Python 3",
   "language": "python",
   "name": "python3"
  },
  "language_info": {
   "codemirror_mode": {
    "name": "ipython",
    "version": 3
   },
   "file_extension": ".py",
   "mimetype": "text/x-python",
   "name": "python",
   "nbconvert_exporter": "python",
   "pygments_lexer": "ipython3",
   "version": "3.7.7"
  }
 },
 "nbformat": 4,
 "nbformat_minor": 4
}
