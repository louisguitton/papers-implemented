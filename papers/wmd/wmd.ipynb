{
 "cells": [
  {
   "cell_type": "code",
   "execution_count": 1,
   "metadata": {},
   "outputs": [
    {
     "name": "stdout",
     "output_type": "stream",
     "text": [
      "/Users/louis.guitton/workspace/papers/papers\n"
     ]
    }
   ],
   "source": [
    "cd .."
   ]
  },
  {
   "cell_type": "markdown",
   "metadata": {},
   "source": [
    "https://towardsdatascience.com/word-distance-between-word-embeddings-cc3e9cf1d632"
   ]
  },
  {
   "cell_type": "code",
   "execution_count": null,
   "metadata": {},
   "outputs": [],
   "source": [
    "# !jupyter labextension install @jupyter-widgets/jupyterlab-manager\n",
    "# !jupyter labextension install @bokeh/jupyter_bokeh"
   ]
  },
  {
   "cell_type": "code",
   "execution_count": 2,
   "metadata": {},
   "outputs": [
    {
     "data": {
      "text/html": [
       "\n",
       "    <div class=\"bk-root\">\n",
       "        <a href=\"https://bokeh.org\" target=\"_blank\" class=\"bk-logo bk-logo-small bk-logo-notebook\"></a>\n",
       "        <span id=\"1001\">Loading BokehJS ...</span>\n",
       "    </div>"
      ]
     },
     "metadata": {},
     "output_type": "display_data"
    },
    {
     "data": {
      "application/javascript": [
       "\n",
       "(function(root) {\n",
       "  function now() {\n",
       "    return new Date();\n",
       "  }\n",
       "\n",
       "  var force = true;\n",
       "\n",
       "  if (typeof root._bokeh_onload_callbacks === \"undefined\" || force === true) {\n",
       "    root._bokeh_onload_callbacks = [];\n",
       "    root._bokeh_is_loading = undefined;\n",
       "  }\n",
       "\n",
       "  var JS_MIME_TYPE = 'application/javascript';\n",
       "  var HTML_MIME_TYPE = 'text/html';\n",
       "  var EXEC_MIME_TYPE = 'application/vnd.bokehjs_exec.v0+json';\n",
       "  var CLASS_NAME = 'output_bokeh rendered_html';\n",
       "\n",
       "  /**\n",
       "   * Render data to the DOM node\n",
       "   */\n",
       "  function render(props, node) {\n",
       "    var script = document.createElement(\"script\");\n",
       "    node.appendChild(script);\n",
       "  }\n",
       "\n",
       "  /**\n",
       "   * Handle when an output is cleared or removed\n",
       "   */\n",
       "  function handleClearOutput(event, handle) {\n",
       "    var cell = handle.cell;\n",
       "\n",
       "    var id = cell.output_area._bokeh_element_id;\n",
       "    var server_id = cell.output_area._bokeh_server_id;\n",
       "    // Clean up Bokeh references\n",
       "    if (id != null && id in Bokeh.index) {\n",
       "      Bokeh.index[id].model.document.clear();\n",
       "      delete Bokeh.index[id];\n",
       "    }\n",
       "\n",
       "    if (server_id !== undefined) {\n",
       "      // Clean up Bokeh references\n",
       "      var cmd = \"from bokeh.io.state import curstate; print(curstate().uuid_to_server['\" + server_id + \"'].get_sessions()[0].document.roots[0]._id)\";\n",
       "      cell.notebook.kernel.execute(cmd, {\n",
       "        iopub: {\n",
       "          output: function(msg) {\n",
       "            var id = msg.content.text.trim();\n",
       "            if (id in Bokeh.index) {\n",
       "              Bokeh.index[id].model.document.clear();\n",
       "              delete Bokeh.index[id];\n",
       "            }\n",
       "          }\n",
       "        }\n",
       "      });\n",
       "      // Destroy server and session\n",
       "      var cmd = \"import bokeh.io.notebook as ion; ion.destroy_server('\" + server_id + \"')\";\n",
       "      cell.notebook.kernel.execute(cmd);\n",
       "    }\n",
       "  }\n",
       "\n",
       "  /**\n",
       "   * Handle when a new output is added\n",
       "   */\n",
       "  function handleAddOutput(event, handle) {\n",
       "    var output_area = handle.output_area;\n",
       "    var output = handle.output;\n",
       "\n",
       "    // limit handleAddOutput to display_data with EXEC_MIME_TYPE content only\n",
       "    if ((output.output_type != \"display_data\") || (!output.data.hasOwnProperty(EXEC_MIME_TYPE))) {\n",
       "      return\n",
       "    }\n",
       "\n",
       "    var toinsert = output_area.element.find(\".\" + CLASS_NAME.split(' ')[0]);\n",
       "\n",
       "    if (output.metadata[EXEC_MIME_TYPE][\"id\"] !== undefined) {\n",
       "      toinsert[toinsert.length - 1].firstChild.textContent = output.data[JS_MIME_TYPE];\n",
       "      // store reference to embed id on output_area\n",
       "      output_area._bokeh_element_id = output.metadata[EXEC_MIME_TYPE][\"id\"];\n",
       "    }\n",
       "    if (output.metadata[EXEC_MIME_TYPE][\"server_id\"] !== undefined) {\n",
       "      var bk_div = document.createElement(\"div\");\n",
       "      bk_div.innerHTML = output.data[HTML_MIME_TYPE];\n",
       "      var script_attrs = bk_div.children[0].attributes;\n",
       "      for (var i = 0; i < script_attrs.length; i++) {\n",
       "        toinsert[toinsert.length - 1].firstChild.setAttribute(script_attrs[i].name, script_attrs[i].value);\n",
       "        toinsert[toinsert.length - 1].firstChild.textContent = bk_div.children[0].textContent\n",
       "      }\n",
       "      // store reference to server id on output_area\n",
       "      output_area._bokeh_server_id = output.metadata[EXEC_MIME_TYPE][\"server_id\"];\n",
       "    }\n",
       "  }\n",
       "\n",
       "  function register_renderer(events, OutputArea) {\n",
       "\n",
       "    function append_mime(data, metadata, element) {\n",
       "      // create a DOM node to render to\n",
       "      var toinsert = this.create_output_subarea(\n",
       "        metadata,\n",
       "        CLASS_NAME,\n",
       "        EXEC_MIME_TYPE\n",
       "      );\n",
       "      this.keyboard_manager.register_events(toinsert);\n",
       "      // Render to node\n",
       "      var props = {data: data, metadata: metadata[EXEC_MIME_TYPE]};\n",
       "      render(props, toinsert[toinsert.length - 1]);\n",
       "      element.append(toinsert);\n",
       "      return toinsert\n",
       "    }\n",
       "\n",
       "    /* Handle when an output is cleared or removed */\n",
       "    events.on('clear_output.CodeCell', handleClearOutput);\n",
       "    events.on('delete.Cell', handleClearOutput);\n",
       "\n",
       "    /* Handle when a new output is added */\n",
       "    events.on('output_added.OutputArea', handleAddOutput);\n",
       "\n",
       "    /**\n",
       "     * Register the mime type and append_mime function with output_area\n",
       "     */\n",
       "    OutputArea.prototype.register_mime_type(EXEC_MIME_TYPE, append_mime, {\n",
       "      /* Is output safe? */\n",
       "      safe: true,\n",
       "      /* Index of renderer in `output_area.display_order` */\n",
       "      index: 0\n",
       "    });\n",
       "  }\n",
       "\n",
       "  // register the mime type if in Jupyter Notebook environment and previously unregistered\n",
       "  if (root.Jupyter !== undefined) {\n",
       "    var events = require('base/js/events');\n",
       "    var OutputArea = require('notebook/js/outputarea').OutputArea;\n",
       "\n",
       "    if (OutputArea.prototype.mime_types().indexOf(EXEC_MIME_TYPE) == -1) {\n",
       "      register_renderer(events, OutputArea);\n",
       "    }\n",
       "  }\n",
       "\n",
       "  \n",
       "  if (typeof (root._bokeh_timeout) === \"undefined\" || force === true) {\n",
       "    root._bokeh_timeout = Date.now() + 5000;\n",
       "    root._bokeh_failed_load = false;\n",
       "  }\n",
       "\n",
       "  var NB_LOAD_WARNING = {'data': {'text/html':\n",
       "     \"<div style='background-color: #fdd'>\\n\"+\n",
       "     \"<p>\\n\"+\n",
       "     \"BokehJS does not appear to have successfully loaded. If loading BokehJS from CDN, this \\n\"+\n",
       "     \"may be due to a slow or bad network connection. Possible fixes:\\n\"+\n",
       "     \"</p>\\n\"+\n",
       "     \"<ul>\\n\"+\n",
       "     \"<li>re-rerun `output_notebook()` to attempt to load from CDN again, or</li>\\n\"+\n",
       "     \"<li>use INLINE resources instead, as so:</li>\\n\"+\n",
       "     \"</ul>\\n\"+\n",
       "     \"<code>\\n\"+\n",
       "     \"from bokeh.resources import INLINE\\n\"+\n",
       "     \"output_notebook(resources=INLINE)\\n\"+\n",
       "     \"</code>\\n\"+\n",
       "     \"</div>\"}};\n",
       "\n",
       "  function display_loaded() {\n",
       "    var el = document.getElementById(\"1001\");\n",
       "    if (el != null) {\n",
       "      el.textContent = \"BokehJS is loading...\";\n",
       "    }\n",
       "    if (root.Bokeh !== undefined) {\n",
       "      if (el != null) {\n",
       "        el.textContent = \"BokehJS \" + root.Bokeh.version + \" successfully loaded.\";\n",
       "      }\n",
       "    } else if (Date.now() < root._bokeh_timeout) {\n",
       "      setTimeout(display_loaded, 100)\n",
       "    }\n",
       "  }\n",
       "\n",
       "\n",
       "  function run_callbacks() {\n",
       "    try {\n",
       "      root._bokeh_onload_callbacks.forEach(function(callback) {\n",
       "        if (callback != null)\n",
       "          callback();\n",
       "      });\n",
       "    } finally {\n",
       "      delete root._bokeh_onload_callbacks\n",
       "    }\n",
       "    console.debug(\"Bokeh: all callbacks have finished\");\n",
       "  }\n",
       "\n",
       "  function load_libs(css_urls, js_urls, callback) {\n",
       "    if (css_urls == null) css_urls = [];\n",
       "    if (js_urls == null) js_urls = [];\n",
       "\n",
       "    root._bokeh_onload_callbacks.push(callback);\n",
       "    if (root._bokeh_is_loading > 0) {\n",
       "      console.debug(\"Bokeh: BokehJS is being loaded, scheduling callback at\", now());\n",
       "      return null;\n",
       "    }\n",
       "    if (js_urls == null || js_urls.length === 0) {\n",
       "      run_callbacks();\n",
       "      return null;\n",
       "    }\n",
       "    console.debug(\"Bokeh: BokehJS not loaded, scheduling load and callback at\", now());\n",
       "    root._bokeh_is_loading = css_urls.length + js_urls.length;\n",
       "\n",
       "    function on_load() {\n",
       "      root._bokeh_is_loading--;\n",
       "      if (root._bokeh_is_loading === 0) {\n",
       "        console.debug(\"Bokeh: all BokehJS libraries/stylesheets loaded\");\n",
       "        run_callbacks()\n",
       "      }\n",
       "    }\n",
       "\n",
       "    function on_error() {\n",
       "      console.error(\"failed to load \" + url);\n",
       "    }\n",
       "\n",
       "    for (var i = 0; i < css_urls.length; i++) {\n",
       "      var url = css_urls[i];\n",
       "      const element = document.createElement(\"link\");\n",
       "      element.onload = on_load;\n",
       "      element.onerror = on_error;\n",
       "      element.rel = \"stylesheet\";\n",
       "      element.type = \"text/css\";\n",
       "      element.href = url;\n",
       "      console.debug(\"Bokeh: injecting link tag for BokehJS stylesheet: \", url);\n",
       "      document.body.appendChild(element);\n",
       "    }\n",
       "\n",
       "    for (var i = 0; i < js_urls.length; i++) {\n",
       "      var url = js_urls[i];\n",
       "      var element = document.createElement('script');\n",
       "      element.onload = on_load;\n",
       "      element.onerror = on_error;\n",
       "      element.async = false;\n",
       "      element.src = url;\n",
       "      \n",
       "      console.debug(\"Bokeh: injecting script tag for BokehJS library: \", url);\n",
       "      document.head.appendChild(element);\n",
       "    }\n",
       "  };var element = document.getElementById(\"1001\");\n",
       "  if (element == null) {\n",
       "    console.error(\"Bokeh: ERROR: autoload.js configured with elementid '1001' but no matching script tag was found. \")\n",
       "    return false;\n",
       "  }\n",
       "\n",
       "  function inject_raw_css(css) {\n",
       "    const element = document.createElement(\"style\");\n",
       "    element.appendChild(document.createTextNode(css));\n",
       "    document.body.appendChild(element);\n",
       "  }\n",
       "\n",
       "  \n",
       "  var js_urls = [\"https://cdn.bokeh.org/bokeh/release/bokeh-2.0.0.min.js\", \"https://cdn.bokeh.org/bokeh/release/bokeh-widgets-2.0.0.min.js\", \"https://cdn.bokeh.org/bokeh/release/bokeh-tables-2.0.0.min.js\", \"https://cdn.bokeh.org/bokeh/release/bokeh-gl-2.0.0.min.js\"];\n",
       "  var css_urls = [];\n",
       "  \n",
       "\n",
       "  var inline_js = [\n",
       "    function(Bokeh) {\n",
       "      Bokeh.set_log_level(\"info\");\n",
       "    },\n",
       "    function(Bokeh) {\n",
       "    \n",
       "    \n",
       "    }\n",
       "  ];\n",
       "\n",
       "  function run_inline_js() {\n",
       "    \n",
       "    if (root.Bokeh !== undefined || force === true) {\n",
       "      \n",
       "    for (var i = 0; i < inline_js.length; i++) {\n",
       "      inline_js[i].call(root, root.Bokeh);\n",
       "    }\n",
       "    if (force === true) {\n",
       "        display_loaded();\n",
       "      }} else if (Date.now() < root._bokeh_timeout) {\n",
       "      setTimeout(run_inline_js, 100);\n",
       "    } else if (!root._bokeh_failed_load) {\n",
       "      console.log(\"Bokeh: BokehJS failed to load within specified timeout.\");\n",
       "      root._bokeh_failed_load = true;\n",
       "    } else if (force !== true) {\n",
       "      var cell = $(document.getElementById(\"1001\")).parents('.cell').data().cell;\n",
       "      cell.output_area.append_execute_result(NB_LOAD_WARNING)\n",
       "    }\n",
       "\n",
       "  }\n",
       "\n",
       "  if (root._bokeh_is_loading === 0) {\n",
       "    console.debug(\"Bokeh: BokehJS loaded, going straight to plotting\");\n",
       "    run_inline_js();\n",
       "  } else {\n",
       "    load_libs(css_urls, js_urls, function() {\n",
       "      console.debug(\"Bokeh: BokehJS plotting callback run at\", now());\n",
       "      run_inline_js();\n",
       "    });\n",
       "  }\n",
       "}(window));"
      ],
      "application/vnd.bokehjs_load.v0+json": "\n(function(root) {\n  function now() {\n    return new Date();\n  }\n\n  var force = true;\n\n  if (typeof root._bokeh_onload_callbacks === \"undefined\" || force === true) {\n    root._bokeh_onload_callbacks = [];\n    root._bokeh_is_loading = undefined;\n  }\n\n  \n\n  \n  if (typeof (root._bokeh_timeout) === \"undefined\" || force === true) {\n    root._bokeh_timeout = Date.now() + 5000;\n    root._bokeh_failed_load = false;\n  }\n\n  var NB_LOAD_WARNING = {'data': {'text/html':\n     \"<div style='background-color: #fdd'>\\n\"+\n     \"<p>\\n\"+\n     \"BokehJS does not appear to have successfully loaded. If loading BokehJS from CDN, this \\n\"+\n     \"may be due to a slow or bad network connection. Possible fixes:\\n\"+\n     \"</p>\\n\"+\n     \"<ul>\\n\"+\n     \"<li>re-rerun `output_notebook()` to attempt to load from CDN again, or</li>\\n\"+\n     \"<li>use INLINE resources instead, as so:</li>\\n\"+\n     \"</ul>\\n\"+\n     \"<code>\\n\"+\n     \"from bokeh.resources import INLINE\\n\"+\n     \"output_notebook(resources=INLINE)\\n\"+\n     \"</code>\\n\"+\n     \"</div>\"}};\n\n  function display_loaded() {\n    var el = document.getElementById(\"1001\");\n    if (el != null) {\n      el.textContent = \"BokehJS is loading...\";\n    }\n    if (root.Bokeh !== undefined) {\n      if (el != null) {\n        el.textContent = \"BokehJS \" + root.Bokeh.version + \" successfully loaded.\";\n      }\n    } else if (Date.now() < root._bokeh_timeout) {\n      setTimeout(display_loaded, 100)\n    }\n  }\n\n\n  function run_callbacks() {\n    try {\n      root._bokeh_onload_callbacks.forEach(function(callback) {\n        if (callback != null)\n          callback();\n      });\n    } finally {\n      delete root._bokeh_onload_callbacks\n    }\n    console.debug(\"Bokeh: all callbacks have finished\");\n  }\n\n  function load_libs(css_urls, js_urls, callback) {\n    if (css_urls == null) css_urls = [];\n    if (js_urls == null) js_urls = [];\n\n    root._bokeh_onload_callbacks.push(callback);\n    if (root._bokeh_is_loading > 0) {\n      console.debug(\"Bokeh: BokehJS is being loaded, scheduling callback at\", now());\n      return null;\n    }\n    if (js_urls == null || js_urls.length === 0) {\n      run_callbacks();\n      return null;\n    }\n    console.debug(\"Bokeh: BokehJS not loaded, scheduling load and callback at\", now());\n    root._bokeh_is_loading = css_urls.length + js_urls.length;\n\n    function on_load() {\n      root._bokeh_is_loading--;\n      if (root._bokeh_is_loading === 0) {\n        console.debug(\"Bokeh: all BokehJS libraries/stylesheets loaded\");\n        run_callbacks()\n      }\n    }\n\n    function on_error() {\n      console.error(\"failed to load \" + url);\n    }\n\n    for (var i = 0; i < css_urls.length; i++) {\n      var url = css_urls[i];\n      const element = document.createElement(\"link\");\n      element.onload = on_load;\n      element.onerror = on_error;\n      element.rel = \"stylesheet\";\n      element.type = \"text/css\";\n      element.href = url;\n      console.debug(\"Bokeh: injecting link tag for BokehJS stylesheet: \", url);\n      document.body.appendChild(element);\n    }\n\n    for (var i = 0; i < js_urls.length; i++) {\n      var url = js_urls[i];\n      var element = document.createElement('script');\n      element.onload = on_load;\n      element.onerror = on_error;\n      element.async = false;\n      element.src = url;\n      \n      console.debug(\"Bokeh: injecting script tag for BokehJS library: \", url);\n      document.head.appendChild(element);\n    }\n  };var element = document.getElementById(\"1001\");\n  if (element == null) {\n    console.error(\"Bokeh: ERROR: autoload.js configured with elementid '1001' but no matching script tag was found. \")\n    return false;\n  }\n\n  function inject_raw_css(css) {\n    const element = document.createElement(\"style\");\n    element.appendChild(document.createTextNode(css));\n    document.body.appendChild(element);\n  }\n\n  \n  var js_urls = [\"https://cdn.bokeh.org/bokeh/release/bokeh-2.0.0.min.js\", \"https://cdn.bokeh.org/bokeh/release/bokeh-widgets-2.0.0.min.js\", \"https://cdn.bokeh.org/bokeh/release/bokeh-tables-2.0.0.min.js\", \"https://cdn.bokeh.org/bokeh/release/bokeh-gl-2.0.0.min.js\"];\n  var css_urls = [];\n  \n\n  var inline_js = [\n    function(Bokeh) {\n      Bokeh.set_log_level(\"info\");\n    },\n    function(Bokeh) {\n    \n    \n    }\n  ];\n\n  function run_inline_js() {\n    \n    if (root.Bokeh !== undefined || force === true) {\n      \n    for (var i = 0; i < inline_js.length; i++) {\n      inline_js[i].call(root, root.Bokeh);\n    }\n    if (force === true) {\n        display_loaded();\n      }} else if (Date.now() < root._bokeh_timeout) {\n      setTimeout(run_inline_js, 100);\n    } else if (!root._bokeh_failed_load) {\n      console.log(\"Bokeh: BokehJS failed to load within specified timeout.\");\n      root._bokeh_failed_load = true;\n    } else if (force !== true) {\n      var cell = $(document.getElementById(\"1001\")).parents('.cell').data().cell;\n      cell.output_area.append_execute_result(NB_LOAD_WARNING)\n    }\n\n  }\n\n  if (root._bokeh_is_loading === 0) {\n    console.debug(\"Bokeh: BokehJS loaded, going straight to plotting\");\n    run_inline_js();\n  } else {\n    load_libs(css_urls, js_urls, function() {\n      console.debug(\"Bokeh: BokehJS plotting callback run at\", now());\n      run_inline_js();\n    });\n  }\n}(window));"
     },
     "metadata": {},
     "output_type": "display_data"
    }
   ],
   "source": [
    "import spacy\n",
    "from spacy.language import Language\n",
    "from textacy.spacier.doc_extensions import to_bag_of_words, to_bag_of_terms\n",
    "from textacy import preprocessing as textacy_preprocessing\n",
    "import wmd\n",
    "from pyemd import emd\n",
    "import sklearn\n",
    "from sklearn.decomposition import PCA\n",
    "import numpy as np\n",
    "import pandas as pd\n",
    "import matplotlib.pyplot as plt\n",
    "import seaborn as sns\n",
    "from bokeh.io import output_notebook\n",
    "from bokeh.plotting import figure, show\n",
    "from bokeh.models import ColumnDataSource\n",
    "from bokeh.models.tools import HoverTool\n",
    "\n",
    "output_notebook()\n",
    "\n",
    "%matplotlib inline"
   ]
  },
  {
   "cell_type": "markdown",
   "metadata": {},
   "source": [
    "# Solution based on wmd-relax"
   ]
  },
  {
   "cell_type": "code",
   "execution_count": 3,
   "metadata": {},
   "outputs": [],
   "source": [
    "nlp = spacy.load('en_core_web_md')\n",
    "nlp.add_pipe(wmd.WMD.SpacySimilarityHook(nlp), last=True)"
   ]
  },
  {
   "cell_type": "code",
   "execution_count": 4,
   "metadata": {},
   "outputs": [
    {
     "name": "stdout",
     "output_type": "stream",
     "text": [
      "6.070105075836182\n",
      "7.920230865478516\n"
     ]
    }
   ],
   "source": [
    "doc1 = nlp(\"Politician speaks to the media in Illinois.\")\n",
    "doc2 = nlp(\"The president greets the press in Chicago.\")\n",
    "doc3 = nlp(\"The band gave a concert in Japan\")\n",
    "print(doc1.similarity(doc2))\n",
    "print(doc1.similarity(doc3))"
   ]
  },
  {
   "cell_type": "markdown",
   "metadata": {},
   "source": [
    "# My implementation, based on pyemd"
   ]
  },
  {
   "cell_type": "code",
   "execution_count": 5,
   "metadata": {},
   "outputs": [],
   "source": [
    "class WMDSimilarityModel(object):\n",
    "    def __init__(self, nlp, **kwargs):\n",
    "        self.nlp = nlp\n",
    "\n",
    "    def __call__(self, doc):\n",
    "        doc.user_hooks[\"similarity\"] = self.compute_similarity\n",
    "        return doc\n",
    "    \n",
    "    def compute_similarity(self, doc1, doc2):\n",
    "        weights = pd.DataFrame([doc1._.nbow, doc2._.nbow]).fillna(0)\n",
    "        vocabulary = weights.columns\n",
    "        \n",
    "        evec = pd.DataFrame([nlp.vocab[tok].vector for tok in vocabulary], index=vocabulary)\n",
    "        \n",
    "        evec_square = evec @ evec.T\n",
    "        dists = np.sqrt(np.diag(evec_square).reshape(1, -1) + np.diag(evec_square).reshape(-1, 1) - 2 * evec @ evec.T)\n",
    "        \n",
    "        w1 = weights.iloc[0].values.copy(order='C')\n",
    "        w2 = weights.iloc[1].values.copy(order='C')\n",
    "        dists = dists.values.copy(order='C')\n",
    "        \n",
    "        return emd(w1, w2, dists)"
   ]
  },
  {
   "cell_type": "code",
   "execution_count": 6,
   "metadata": {},
   "outputs": [],
   "source": [
    "nlp = spacy.load('en_core_web_md')"
   ]
  },
  {
   "cell_type": "code",
   "execution_count": 7,
   "metadata": {},
   "outputs": [],
   "source": [
    "def bag_of_words(doc):\n",
    "    \"\"\"Normalised Bag of Words.\"\"\"\n",
    "    # https://github.com/chartbeat-labs/textacy/blob/606c2ec8dc4e3183217f71d4b2b1d4e8bf2f49c5/textacy/spacier/doc_extensions.py\n",
    "    doc.set_extension(\"nbow\", getter=lambda d: to_bag_of_words(d, weighting=\"freq\", as_strings=True), force=True)\n",
    "    return doc"
   ]
  },
  {
   "cell_type": "code",
   "execution_count": 8,
   "metadata": {},
   "outputs": [],
   "source": [
    "nlp.add_pipe(bag_of_words, after=\"parser\")"
   ]
  },
  {
   "cell_type": "code",
   "execution_count": 9,
   "metadata": {},
   "outputs": [],
   "source": [
    "nlp.add_pipe(WMDSimilarityModel(nlp), last=True)"
   ]
  },
  {
   "cell_type": "code",
   "execution_count": 10,
   "metadata": {},
   "outputs": [
    {
     "data": {
      "text/plain": [
       "[('tagger', <spacy.pipeline.pipes.Tagger at 0x12e2f2d10>),\n",
       " ('parser', <spacy.pipeline.pipes.DependencyParser at 0x12e446de0>),\n",
       " ('bag_of_words', <function __main__.bag_of_words(doc)>),\n",
       " ('ner', <spacy.pipeline.pipes.EntityRecognizer at 0x12e446d70>),\n",
       " ('WMDSimilarityModel', <__main__.WMDSimilarityModel at 0x1637742d0>)]"
      ]
     },
     "execution_count": 10,
     "metadata": {},
     "output_type": "execute_result"
    }
   ],
   "source": [
    "nlp.pipeline"
   ]
  },
  {
   "cell_type": "code",
   "execution_count": 11,
   "metadata": {},
   "outputs": [
    {
     "name": "stdout",
     "output_type": "stream",
     "text": [
      "3.148351993149684\n",
      "4.265628528887262\n"
     ]
    },
    {
     "name": "stderr",
     "output_type": "stream",
     "text": [
      "/Users/louis.guitton/workspace/papers/venv/lib/python3.7/site-packages/ipykernel_launcher.py:16: RuntimeWarning: invalid value encountered in sqrt\n",
      "  app.launch_new_instance()\n"
     ]
    }
   ],
   "source": [
    "doc1 = nlp(\"Politician speaks to the media in Illinois.\")\n",
    "doc2 = nlp(\"The president greets the press in Chicago.\")\n",
    "doc3 = nlp(\"The band gave a concert in Japan\")\n",
    "print(doc1.similarity(doc2))\n",
    "print(doc1.similarity(doc3))"
   ]
  },
  {
   "cell_type": "markdown",
   "metadata": {},
   "source": [
    "# Play around with Football data"
   ]
  },
  {
   "cell_type": "code",
   "execution_count": 12,
   "metadata": {},
   "outputs": [],
   "source": [
    "text = \"\"\"\n",
    "Barcelona confirm another injury for Ousmane Dembele\n",
    "\n",
    " Barcelona have confirmed that winger Ousmane Dembélé has suffered yet another injury.\n",
    "Dembélé hasn’t played since November 27 due to a hamstring problem, with the club now confirming another setback in training.\n",
    "“During this morning’s training session, Ousmane Dembélé felt some discomfort in his right leg as a consequence of muscle fatigue,” read an official statement.\n",
    "“He will continue with his rehabilitation.”\n",
    "The LaLiga club have given no official time frame on his potential return date.\n",
    "\"\"\""
   ]
  },
  {
   "cell_type": "code",
   "execution_count": 13,
   "metadata": {},
   "outputs": [],
   "source": [
    "doc1 = nlp(textacy_preprocessing.remove_accents(\n",
    "            textacy_preprocessing.normalize_quotation_marks(\n",
    "                text\n",
    "            )\n",
    "        ))"
   ]
  },
  {
   "cell_type": "code",
   "execution_count": 14,
   "metadata": {},
   "outputs": [],
   "source": [
    "text = \"\"\"\n",
    "Chelsea 'opted against' signing Salomon Rondón on deadline day\n",
    "\n",
    " Chelsea reportedly opted against signing Salomón Rondón on deadline day despite their long search for a new centre forward.\n",
    "With Olivier Giroud expected to leave, the Blues targeted Edinson Cavani, Dries Mertens and Moussa Dembele – only to end up with none of them.\n",
    "According to Telegraph Sport, Dalian Yifang offered Rondón to Chelsea only for them to prefer keeping Giroud at the club.\n",
    "Manchester United were also linked with the Venezuela international before agreeing a deal for Shanghai Shenhua striker Odion Ighalo.\n",
    "Manager Frank Lampard made no secret of his transfer window frustration, hinting that to secure top four football he ‘needed’ signings.\n",
    "Their draw against Leicester on Saturday means they have won just four of the last 13 Premier League matches.\n",
    "\"\"\""
   ]
  },
  {
   "cell_type": "code",
   "execution_count": 15,
   "metadata": {},
   "outputs": [],
   "source": [
    "doc2 = nlp(textacy_preprocessing.remove_accents(\n",
    "            textacy_preprocessing.normalize_quotation_marks(\n",
    "                text\n",
    "            )\n",
    "        ))"
   ]
  },
  {
   "cell_type": "code",
   "execution_count": 16,
   "metadata": {},
   "outputs": [
    {
     "name": "stderr",
     "output_type": "stream",
     "text": [
      "/Users/louis.guitton/workspace/papers/venv/lib/python3.7/site-packages/ipykernel_launcher.py:16: RuntimeWarning: invalid value encountered in sqrt\n",
      "  app.launch_new_instance()\n"
     ]
    },
    {
     "data": {
      "text/plain": [
       "3.311242183284258"
      ]
     },
     "execution_count": 16,
     "metadata": {},
     "output_type": "execute_result"
    }
   ],
   "source": [
    "doc1.similarity(doc2)"
   ]
  },
  {
   "cell_type": "markdown",
   "metadata": {},
   "source": [
    "# Document plot"
   ]
  },
  {
   "cell_type": "code",
   "execution_count": 17,
   "metadata": {},
   "outputs": [],
   "source": [
    "is_token_kept = lambda tok: not (tok.is_punct or tok.is_space or tok.is_stop)"
   ]
  },
  {
   "cell_type": "code",
   "execution_count": 18,
   "metadata": {},
   "outputs": [],
   "source": [
    "def plot(\n",
    "    doc_1: spacy.tokens.doc.Doc, \n",
    "    doc_2: spacy.tokens.doc.Doc\n",
    "):\n",
    "    docs = {1: doc_1, 2: doc_2}\n",
    "    \n",
    "    tokens_of_interest = {k: [tok for tok in v if is_token_kept(tok)] for k, v in docs.items()}\n",
    "    X_300D = {k: pd.DataFrame.from_dict({tok.text: list(tok.vector) for tok in tokens_of_interest[k]}, orient='index') for k in docs.keys()}\n",
    "    # TODO: do something with duplicates\n",
    "\n",
    "    oov_tokens = {k: set((tok.text, tok.pos_) for tok in tokens_of_interest[k] if not tok.has_vector) for k in docs.keys()}\n",
    "    print(oov_tokens)\n",
    "    \n",
    "    pca = PCA(n_components=2)\n",
    "    pca.fit(pd.concat(X_300D.values(), axis=0))\n",
    "    \n",
    "    X_2D = {k: pd.DataFrame(\n",
    "        pca.transform(X_300D[k]), index=X_300D[k].index, columns=['C1', 'C2']\n",
    "    ).reset_index() for k in docs.keys()}    \n",
    "    \n",
    "    colors =  {1: \"brown\", 2: \"green\"}\n",
    "    for k in docs.keys():\n",
    "        X_2D[k].insert(3, \"doc_color\", colors[k])\n",
    "    \n",
    "    \n",
    "    return pd.concat(X_2D.values(), axis=0)"
   ]
  },
  {
   "cell_type": "code",
   "execution_count": 19,
   "metadata": {},
   "outputs": [
    {
     "name": "stdout",
     "output_type": "stream",
     "text": [
      "{1: {('Dembele', 'PROPN'), ('LaLiga', 'PROPN'), ('Ousmane', 'PROPN')}, 2: {('Odion', 'PROPN'), ('Shenhua', 'PROPN'), ('Edinson', 'PROPN'), ('Dembele', 'PROPN'), ('Ighalo', 'PROPN'), ('Yifang', 'PROPN')}}\n"
     ]
    }
   ],
   "source": [
    "X_2D = plot(doc1, doc2)"
   ]
  },
  {
   "cell_type": "code",
   "execution_count": 20,
   "metadata": {},
   "outputs": [
    {
     "data": {
      "text/html": [
       "\n",
       "\n",
       "\n",
       "\n",
       "\n",
       "\n",
       "  <div class=\"bk-root\" id=\"6da8f1ce-da9b-4f22-8b6f-477aac4b58c2\" data-root-id=\"1002\"></div>\n"
      ]
     },
     "metadata": {},
     "output_type": "display_data"
    },
    {
     "data": {
      "application/javascript": [
       "(function(root) {\n",
       "  function embed_document(root) {\n",
       "    \n",
       "  var docs_json = {\"bb168e82-38e2-438c-abed-c6642c94b0cd\":{\"roots\":{\"references\":[{\"attributes\":{\"below\":[{\"id\":\"1013\"}],\"center\":[{\"id\":\"1016\"},{\"id\":\"1020\"}],\"left\":[{\"id\":\"1017\"}],\"renderers\":[{\"id\":\"1040\"}],\"title\":{\"id\":\"1003\"},\"toolbar\":{\"id\":\"1028\"},\"x_range\":{\"id\":\"1005\"},\"x_scale\":{\"id\":\"1009\"},\"y_range\":{\"id\":\"1007\"},\"y_scale\":{\"id\":\"1011\"}},\"id\":\"1002\",\"subtype\":\"Figure\",\"type\":\"Plot\"},{\"attributes\":{},\"id\":\"1025\",\"type\":\"ResetTool\"},{\"attributes\":{},\"id\":\"1018\",\"type\":\"BasicTicker\"},{\"attributes\":{},\"id\":\"1026\",\"type\":\"HelpTool\"},{\"attributes\":{},\"id\":\"1005\",\"type\":\"DataRange1d\"},{\"attributes\":{},\"id\":\"1009\",\"type\":\"LinearScale\"},{\"attributes\":{\"fill_alpha\":{\"value\":0.1},\"fill_color\":{\"field\":\"doc_color\"},\"line_alpha\":{\"value\":0.1},\"line_color\":{\"field\":\"doc_color\"},\"size\":{\"units\":\"screen\",\"value\":10},\"x\":{\"field\":\"C1\"},\"y\":{\"field\":\"C2\"}},\"id\":\"1039\",\"type\":\"Circle\"},{\"attributes\":{\"bottom_units\":\"screen\",\"fill_alpha\":0.5,\"fill_color\":\"lightgrey\",\"left_units\":\"screen\",\"level\":\"overlay\",\"line_alpha\":1.0,\"line_color\":\"black\",\"line_dash\":[4,4],\"line_width\":2,\"render_mode\":\"css\",\"right_units\":\"screen\",\"top_units\":\"screen\"},\"id\":\"1049\",\"type\":\"BoxAnnotation\"},{\"attributes\":{\"active_drag\":\"auto\",\"active_inspect\":\"auto\",\"active_multi\":null,\"active_scroll\":\"auto\",\"active_tap\":\"auto\",\"tools\":[{\"id\":\"1021\"},{\"id\":\"1022\"},{\"id\":\"1023\"},{\"id\":\"1024\"},{\"id\":\"1025\"},{\"id\":\"1026\"},{\"id\":\"1027\"}]},\"id\":\"1028\",\"type\":\"Toolbar\"},{\"attributes\":{\"callback\":null,\"tooltips\":[[\"token\",\"@index\"]]},\"id\":\"1027\",\"type\":\"HoverTool\"},{\"attributes\":{\"axis\":{\"id\":\"1017\"},\"dimension\":1,\"ticker\":null},\"id\":\"1020\",\"type\":\"Grid\"},{\"attributes\":{\"data_source\":{\"id\":\"1036\"},\"glyph\":{\"id\":\"1038\"},\"hover_glyph\":null,\"muted_glyph\":null,\"nonselection_glyph\":{\"id\":\"1039\"},\"selection_glyph\":null,\"view\":{\"id\":\"1041\"}},\"id\":\"1040\",\"type\":\"GlyphRenderer\"},{\"attributes\":{},\"id\":\"1047\",\"type\":\"UnionRenderers\"},{\"attributes\":{\"formatter\":{\"id\":\"1043\"},\"ticker\":{\"id\":\"1018\"}},\"id\":\"1017\",\"type\":\"LinearAxis\"},{\"attributes\":{},\"id\":\"1048\",\"type\":\"Selection\"},{\"attributes\":{\"formatter\":{\"id\":\"1045\"},\"ticker\":{\"id\":\"1014\"}},\"id\":\"1013\",\"type\":\"LinearAxis\"},{\"attributes\":{},\"id\":\"1021\",\"type\":\"PanTool\"},{\"attributes\":{},\"id\":\"1014\",\"type\":\"BasicTicker\"},{\"attributes\":{\"axis\":{\"id\":\"1013\"},\"ticker\":null},\"id\":\"1016\",\"type\":\"Grid\"},{\"attributes\":{},\"id\":\"1043\",\"type\":\"BasicTickFormatter\"},{\"attributes\":{\"fill_alpha\":{\"value\":0.5},\"fill_color\":{\"field\":\"doc_color\"},\"line_alpha\":{\"value\":0.5},\"line_color\":{\"field\":\"doc_color\"},\"size\":{\"units\":\"screen\",\"value\":10},\"x\":{\"field\":\"C1\"},\"y\":{\"field\":\"C2\"}},\"id\":\"1038\",\"type\":\"Circle\"},{\"attributes\":{},\"id\":\"1045\",\"type\":\"BasicTickFormatter\"},{\"attributes\":{\"text\":\"2 documents in their 300D embedding space\"},\"id\":\"1003\",\"type\":\"Title\"},{\"attributes\":{},\"id\":\"1007\",\"type\":\"DataRange1d\"},{\"attributes\":{},\"id\":\"1011\",\"type\":\"LinearScale\"},{\"attributes\":{\"source\":{\"id\":\"1036\"}},\"id\":\"1041\",\"type\":\"CDSView\"},{\"attributes\":{},\"id\":\"1022\",\"type\":\"WheelZoomTool\"},{\"attributes\":{},\"id\":\"1024\",\"type\":\"SaveTool\"},{\"attributes\":{\"overlay\":{\"id\":\"1049\"}},\"id\":\"1023\",\"type\":\"BoxZoomTool\"},{\"attributes\":{\"data\":{\"C1\":{\"__ndarray__\":\"oOOS785QEUD0GmFjeR32vxzB9JVFl/G/uTTYqzNW6j+5NNirM1bqP2KL7ge+IPm/OvHK2lmr8j/XkTiIbIv6vxrUlHKXcNu/bZXtk3rSAUC3ne+DTKrEvzscVA9NEOy/CISR4/iG/L8wfxUfOG3mPziZvsHON/K/l730Q2u9/7+VLcBuqSbxv3KCrT5Zxfe/QFJR32in9b/XJxUCoOj6v2ZROXnt3Pa/kWWGk05e+L+9m+C5I6zmv8qDf7lPS/G/3diP1qFW6r966RmGkqTwvyVwYLz1kvK//I+RYLcP7r8fNcpP6oX+v8J20Xkbe/+/cMxPUj5c6L+5NNirM1bqP9YOESWv1v6/so3VU0m1/L/GDTfgB9rtv9KrO8Q74AHAA+Z6af01+781NUDEThbxv04+hSFoaRBArj24zFDb678JkRt62pnsv/pYmLO9agpA3XQC0oogE0DWtoiuoBb1vwcgKlVabfW/vgYJDfgs+b+XvfRDa73/v9DqlKeObfe/rGb3oh8h6L+bvaCsHGbsv6AlQwSctpa/s5knOTht+L9evduz/fQIQGYZ3WrQhQ5AiLXshoZvAcB+x6nEGBj2v9LZeAKFj/A/vc/7iU5V97+5NNirM1bqP6HS2cZs1xJAA7q4UNq02z/Ftvg2mvYQQErVJT5VQA9AuTTYqzNW6j9880QQTXT6v8YD8oGSxf2/VEoDMzDuqj/j2TDLLJTCPzgxHDIvjwtAuTTYqzNW6j+SyGAGGO/3v3blHMKhVue/eO7+Na1N+L8wfxUfOG3mPyiVPaQbjg9ACli9jGL49j9x4HHTOsnwv2O7sTHCywtAolqpIIp6wr8kY3yldCjuv3TO14pa2vm/ODEcMi+PC0C5NNirM1bqP1p3SmbLLfA/uTTYqzNW6j+5NNirM1bqP3r2USmEY9W/g7yCInvb+z9kHH84eZUTQHZbEqDb1Oa/2bfCKHMn7r/CEEx3karnvzoKT5Q7ZvW/7J9kFsTb5L+qyGMsGdb0vyEUuGREMuI/kHQv1hJ6+78JkRt62pnsv6s7yYPKNOO/uXy2YjWQEEDA9ZBVBrb5PxqhyB82MPe/fXlvdher2b9s+wZil27MvxmIpm+k4uM/SAVmuBhi1D/+u+2JpYvHvw==\",\"dtype\":\"float64\",\"shape\":[107]},\"C2\":{\"__ndarray__\":\"7cSXdNxb4j88RrzlYZnHP1rwaAwAUrC/C5shXp8i8b8LmyFenyLxvyPL2lmyoes/9gCy8nUOCUCzqCZjUPXlv3LO59G1iPw/fKvE4sE70L8g7JJuewPVv2rCsVXgPvC/YjgzZ1NF8b9wHEaq3VwGQGVoi02IU68/ugU5g9Ag1z8jxPrU1QjJP5kCRkvbXOi/mXjNwqDDsj/WaFAPLBjwv5kyFM2tJwzA7B1bMxprw7+TFzdUhIrxv0SN7x1YWfa/AsRpj3yzBMAQrVtj7XoMwCDjpv2/sOG/K2Z2lEDt9T9q5fF849LRP5wfnDZOncu/yqulNIjw8b8LmyFenyLxv9yhopdSxbY/zPn5ZzB50r/Xg/N+X9Dvv8BcJCL14Mi/5YT7srj12D8SylQrpCPWP5Br0FQpwPY/Oifne4hg1D8U8Mi2ecYDQKCEhgI61O+/bBI2V8LV+L9zfs4YloDoP8lE9UY4w9m/PIwSIldy0z+6BTmD0CDXP6IBJytLteq/yREsobDE078mTlZ3bDfVP4Qxmrkrm/I/JJ237oaE6D90Ae2IqHLwv8yt4DSSc+w/aMObeM6xwz86PFTB+GbGv24QNlyac9C//E+ZB12r4L8LmyFenyLxv2LEIiApKMY/cIWMh/JQB8DIZqYbyLPzvyh+6jrsiQHAC5shXp8i8b8MUWf3tiWvP7yrsuVkjsM/ik+0Rmrr6L+x2JJ+aInwP9uGOOD+NPK/C5shXp8i8b9e0MF1mZHKP9gJuHYou9+/Q02g9FLa079wHEaq3VwGQI+OiZDWVfM/gyJj8fwT4T/pdIf7w1rZv4pJPvPbxPO/mqVzUwZI+T90Q8qkvM/fP6QIlVyD5t8/24Y44P408r8LmyFenyLxvzxF6gbi8Q1AC5shXp8i8b8LmyFenyLxv1TGqYmBB/4/nFeJA4Mj6L+z3Bx+bRbnPzhx6naELqI/Yo5eylhj5D/sCgtnJpfhv+dLbNaVi/O/LL5Sllm/xD+QY2z7pN7SP8vYTCW8iwpAPO+hGJCk5L8U8Mi2ecYDQPKCPXviYOc/EfV4L9/P6D9C5cXyJwfZv1jCbBaWgtm//GWu6utP+j80S5g3odrWv9j5l5d1OPY/riYGZaluDEAg3l/VdBnzPw==\",\"dtype\":\"float64\",\"shape\":[107]},\"doc_color\":[\"brown\",\"brown\",\"brown\",\"brown\",\"brown\",\"brown\",\"brown\",\"brown\",\"brown\",\"brown\",\"brown\",\"brown\",\"brown\",\"brown\",\"brown\",\"brown\",\"brown\",\"brown\",\"brown\",\"brown\",\"brown\",\"brown\",\"brown\",\"brown\",\"brown\",\"brown\",\"brown\",\"brown\",\"brown\",\"brown\",\"brown\",\"brown\",\"brown\",\"brown\",\"brown\",\"brown\",\"brown\",\"brown\",\"green\",\"green\",\"green\",\"green\",\"green\",\"green\",\"green\",\"green\",\"green\",\"green\",\"green\",\"green\",\"green\",\"green\",\"green\",\"green\",\"green\",\"green\",\"green\",\"green\",\"green\",\"green\",\"green\",\"green\",\"green\",\"green\",\"green\",\"green\",\"green\",\"green\",\"green\",\"green\",\"green\",\"green\",\"green\",\"green\",\"green\",\"green\",\"green\",\"green\",\"green\",\"green\",\"green\",\"green\",\"green\",\"green\",\"green\",\"green\",\"green\",\"green\",\"green\",\"green\",\"green\",\"green\",\"green\",\"green\",\"green\",\"green\",\"green\",\"green\",\"green\",\"green\",\"green\",\"green\",\"green\",\"green\",\"green\",\"green\",\"green\"],\"index\":[\"Barcelona\",\"confirm\",\"injury\",\"Ousmane\",\"Dembele\",\"confirmed\",\"winger\",\"suffered\",\"played\",\"November\",\"27\",\"hamstring\",\"problem\",\"club\",\"confirming\",\"setback\",\"training\",\"morning\",\"session\",\"felt\",\"discomfort\",\"right\",\"leg\",\"consequence\",\"muscle\",\"fatigue\",\"read\",\"official\",\"statement\",\"continue\",\"rehabilitation\",\"LaLiga\",\"given\",\"time\",\"frame\",\"potential\",\"return\",\"date\",\"Chelsea\",\"opted\",\"signing\",\"Salomon\",\"Rondon\",\"deadline\",\"day\",\"reportedly\",\"despite\",\"long\",\"search\",\"new\",\"centre\",\"forward\",\"Olivier\",\"Giroud\",\"expected\",\"leave\",\"Blues\",\"targeted\",\"Edinson\",\"Cavani\",\"Dries\",\"Mertens\",\"Moussa\",\"Dembele\",\"end\",\"According\",\"Telegraph\",\"Sport\",\"Dalian\",\"Yifang\",\"offered\",\"prefer\",\"keeping\",\"club\",\"Manchester\",\"United\",\"linked\",\"Venezuela\",\"international\",\"agreeing\",\"deal\",\"Shanghai\",\"Shenhua\",\"striker\",\"Odion\",\"Ighalo\",\"Manager\",\"Frank\",\"Lampard\",\"secret\",\"transfer\",\"window\",\"frustration\",\"hinting\",\"secure\",\"football\",\"needed\",\"signings\",\"draw\",\"Leicester\",\"Saturday\",\"means\",\"won\",\"13\",\"Premier\",\"League\",\"matches\"],\"level_0\":[0,1,2,3,4,5,6,7,8,9,10,11,12,13,14,15,16,17,18,19,20,21,22,23,24,25,26,27,28,29,30,31,32,33,34,35,36,37,0,1,2,3,4,5,6,7,8,9,10,11,12,13,14,15,16,17,18,19,20,21,22,23,24,25,26,27,28,29,30,31,32,33,34,35,36,37,38,39,40,41,42,43,44,45,46,47,48,49,50,51,52,53,54,55,56,57,58,59,60,61,62,63,64,65,66,67,68]},\"selected\":{\"id\":\"1048\"},\"selection_policy\":{\"id\":\"1047\"}},\"id\":\"1036\",\"type\":\"ColumnDataSource\"}],\"root_ids\":[\"1002\"]},\"title\":\"Bokeh Application\",\"version\":\"2.0.0\"}};\n",
       "  var render_items = [{\"docid\":\"bb168e82-38e2-438c-abed-c6642c94b0cd\",\"root_ids\":[\"1002\"],\"roots\":{\"1002\":\"6da8f1ce-da9b-4f22-8b6f-477aac4b58c2\"}}];\n",
       "  root.Bokeh.embed.embed_items_notebook(docs_json, render_items);\n",
       "\n",
       "  }\n",
       "  if (root.Bokeh !== undefined) {\n",
       "    embed_document(root);\n",
       "  } else {\n",
       "    var attempts = 0;\n",
       "    var timer = setInterval(function(root) {\n",
       "      if (root.Bokeh !== undefined) {\n",
       "        clearInterval(timer);\n",
       "        embed_document(root);\n",
       "      } else {\n",
       "        attempts++;\n",
       "        if (attempts > 100) {\n",
       "          clearInterval(timer);\n",
       "          console.log(\"Bokeh: ERROR: Unable to run BokehJS code because BokehJS library is missing\");\n",
       "        }\n",
       "      }\n",
       "    }, 10, root)\n",
       "  }\n",
       "})(window);"
      ],
      "application/vnd.bokehjs_exec.v0+json": ""
     },
     "metadata": {
      "application/vnd.bokehjs_exec.v0+json": {
       "id": "1002"
      }
     },
     "output_type": "display_data"
    }
   ],
   "source": [
    "p = figure(title=\"2 documents in their 300D embedding space\", tooltips=[('token', '@index')])\n",
    "source = ColumnDataSource(X_2D)\n",
    "\n",
    "p.circle(\"C1\", \"C2\", size=10, color=\"doc_color\", alpha=0.5, source=source)\n",
    "\n",
    "show(p)"
   ]
  },
  {
   "cell_type": "code",
   "execution_count": 479,
   "metadata": {},
   "outputs": [
    {
     "data": {
      "text/html": [
       "\n",
       "\n",
       "\n",
       "\n",
       "\n",
       "\n",
       "  <div class=\"bk-root\" id=\"649f4ca4-fd80-4fa3-874f-37059ffa4197\" data-root-id=\"2913\"></div>\n"
      ]
     },
     "metadata": {},
     "output_type": "display_data"
    },
    {
     "data": {
      "application/javascript": [
       "(function(root) {\n",
       "  function embed_document(root) {\n",
       "    \n",
       "  var docs_json = {\"1afeb61a-dddc-4e53-a36c-10f04de7d284\":{\"roots\":{\"references\":[{\"attributes\":{\"below\":[{\"id\":\"2924\"}],\"center\":[{\"id\":\"2927\"},{\"id\":\"2931\"}],\"left\":[{\"id\":\"2928\"}],\"renderers\":[{\"id\":\"2951\"}],\"title\":{\"id\":\"2914\"},\"toolbar\":{\"id\":\"2939\"},\"x_range\":{\"id\":\"2916\"},\"x_scale\":{\"id\":\"2920\"},\"y_range\":{\"id\":\"2918\"},\"y_scale\":{\"id\":\"2922\"}},\"id\":\"2913\",\"subtype\":\"Figure\",\"type\":\"Plot\"},{\"attributes\":{\"axis\":{\"id\":\"2928\"},\"dimension\":1,\"ticker\":null},\"id\":\"2931\",\"type\":\"Grid\"},{\"attributes\":{\"bottom_units\":\"screen\",\"fill_alpha\":0.5,\"fill_color\":\"lightgrey\",\"left_units\":\"screen\",\"level\":\"overlay\",\"line_alpha\":1.0,\"line_color\":\"black\",\"line_dash\":[4,4],\"line_width\":2,\"render_mode\":\"css\",\"right_units\":\"screen\",\"top_units\":\"screen\"},\"id\":\"3068\",\"type\":\"BoxAnnotation\"},{\"attributes\":{\"callback\":null,\"tooltips\":[[\"token\",\"@index\"]]},\"id\":\"2938\",\"type\":\"HoverTool\"},{\"attributes\":{\"axis\":{\"id\":\"2924\"},\"ticker\":null},\"id\":\"2927\",\"type\":\"Grid\"},{\"attributes\":{\"active_drag\":\"auto\",\"active_inspect\":\"auto\",\"active_multi\":null,\"active_scroll\":\"auto\",\"active_tap\":\"auto\",\"tools\":[{\"id\":\"2932\"},{\"id\":\"2933\"},{\"id\":\"2934\"},{\"id\":\"2935\"},{\"id\":\"2936\"},{\"id\":\"2937\"},{\"id\":\"2938\"}]},\"id\":\"2939\",\"type\":\"Toolbar\"},{\"attributes\":{\"fill_alpha\":{\"value\":0.5},\"fill_color\":{\"field\":\"doc_color\"},\"line_alpha\":{\"value\":0.5},\"line_color\":{\"field\":\"doc_color\"},\"size\":{\"units\":\"screen\",\"value\":10},\"x\":{\"field\":\"C1\"},\"y\":{\"field\":\"C2\"}},\"id\":\"2949\",\"type\":\"Circle\"},{\"attributes\":{\"data_source\":{\"id\":\"2947\"},\"glyph\":{\"id\":\"2949\"},\"hover_glyph\":null,\"muted_glyph\":null,\"nonselection_glyph\":{\"id\":\"2950\"},\"selection_glyph\":null,\"view\":{\"id\":\"2952\"}},\"id\":\"2951\",\"type\":\"GlyphRenderer\"},{\"attributes\":{},\"id\":\"3064\",\"type\":\"BasicTickFormatter\"},{\"attributes\":{},\"id\":\"3062\",\"type\":\"BasicTickFormatter\"},{\"attributes\":{},\"id\":\"2929\",\"type\":\"BasicTicker\"},{\"attributes\":{},\"id\":\"2933\",\"type\":\"WheelZoomTool\"},{\"attributes\":{},\"id\":\"2920\",\"type\":\"LinearScale\"},{\"attributes\":{},\"id\":\"3066\",\"type\":\"UnionRenderers\"},{\"attributes\":{},\"id\":\"2918\",\"type\":\"DataRange1d\"},{\"attributes\":{\"text\":\"2 documents in the 300D embedding space\"},\"id\":\"2914\",\"type\":\"Title\"},{\"attributes\":{},\"id\":\"2935\",\"type\":\"SaveTool\"},{\"attributes\":{\"formatter\":{\"id\":\"3062\"},\"ticker\":{\"id\":\"2925\"}},\"id\":\"2924\",\"type\":\"LinearAxis\"},{\"attributes\":{},\"id\":\"3067\",\"type\":\"Selection\"},{\"attributes\":{\"fill_alpha\":{\"value\":0.1},\"fill_color\":{\"field\":\"doc_color\"},\"line_alpha\":{\"value\":0.1},\"line_color\":{\"field\":\"doc_color\"},\"size\":{\"units\":\"screen\",\"value\":10},\"x\":{\"field\":\"C1\"},\"y\":{\"field\":\"C2\"}},\"id\":\"2950\",\"type\":\"Circle\"},{\"attributes\":{\"overlay\":{\"id\":\"3068\"}},\"id\":\"2934\",\"type\":\"BoxZoomTool\"},{\"attributes\":{\"data\":{\"C1\":{\"__ndarray__\":\"oOOS785QEUD0GmFjeR32vxzB9JVFl/G/uTTYqzNW6j+5NNirM1bqP2KL7ge+IPm/OvHK2lmr8j/XkTiIbIv6vxrUlHKXcNu/bZXtk3rSAUC3ne+DTKrEvzscVA9NEOy/CISR4/iG/L8wfxUfOG3mPziZvsHON/K/l730Q2u9/7+VLcBuqSbxv3KCrT5Zxfe/QFJR32in9b/XJxUCoOj6v2ZROXnt3Pa/kWWGk05e+L+9m+C5I6zmv8qDf7lPS/G/3diP1qFW6r966RmGkqTwvyVwYLz1kvK//I+RYLcP7r8fNcpP6oX+v8J20Xkbe/+/cMxPUj5c6L+5NNirM1bqP9YOESWv1v6/so3VU0m1/L/GDTfgB9rtv9KrO8Q74AHAA+Z6af01+781NUDEThbxv04+hSFoaRBArj24zFDb678JkRt62pnsv/pYmLO9agpA3XQC0oogE0DWtoiuoBb1vwcgKlVabfW/vgYJDfgs+b+XvfRDa73/v9DqlKeObfe/rGb3oh8h6L+bvaCsHGbsv6AlQwSctpa/s5knOTht+L9evduz/fQIQGYZ3WrQhQ5AiLXshoZvAcB+x6nEGBj2v9LZeAKFj/A/vc/7iU5V97+5NNirM1bqP6HS2cZs1xJAA7q4UNq02z/Ftvg2mvYQQErVJT5VQA9AuTTYqzNW6j9880QQTXT6v8YD8oGSxf2/VEoDMzDuqj/j2TDLLJTCPzgxHDIvjwtAuTTYqzNW6j+SyGAGGO/3v3blHMKhVue/eO7+Na1N+L8wfxUfOG3mPyiVPaQbjg9ACli9jGL49j9x4HHTOsnwv2O7sTHCywtAolqpIIp6wr8kY3yldCjuv3TO14pa2vm/ODEcMi+PC0C5NNirM1bqP1p3SmbLLfA/uTTYqzNW6j+5NNirM1bqP3r2USmEY9W/g7yCInvb+z9kHH84eZUTQHZbEqDb1Oa/2bfCKHMn7r/CEEx3karnvzoKT5Q7ZvW/7J9kFsTb5L+qyGMsGdb0vyEUuGREMuI/kHQv1hJ6+78JkRt62pnsv6s7yYPKNOO/uXy2YjWQEEDA9ZBVBrb5PxqhyB82MPe/fXlvdher2b9s+wZil27MvxmIpm+k4uM/SAVmuBhi1D/+u+2JpYvHvw==\",\"dtype\":\"float64\",\"shape\":[107]},\"C2\":{\"__ndarray__\":\"7cSXdNxb4j88RrzlYZnHP1rwaAwAUrC/C5shXp8i8b8LmyFenyLxvyPL2lmyoes/9gCy8nUOCUCzqCZjUPXlv3LO59G1iPw/fKvE4sE70L8g7JJuewPVv2rCsVXgPvC/YjgzZ1NF8b9wHEaq3VwGQGVoi02IU68/ugU5g9Ag1z8jxPrU1QjJP5kCRkvbXOi/mXjNwqDDsj/WaFAPLBjwv5kyFM2tJwzA7B1bMxprw7+TFzdUhIrxv0SN7x1YWfa/AsRpj3yzBMAQrVtj7XoMwCDjpv2/sOG/K2Z2lEDt9T9q5fF849LRP5wfnDZOncu/yqulNIjw8b8LmyFenyLxv9yhopdSxbY/zPn5ZzB50r/Xg/N+X9Dvv8BcJCL14Mi/5YT7srj12D8SylQrpCPWP5Br0FQpwPY/Oifne4hg1D8U8Mi2ecYDQKCEhgI61O+/bBI2V8LV+L9zfs4YloDoP8lE9UY4w9m/PIwSIldy0z+6BTmD0CDXP6IBJytLteq/yREsobDE078mTlZ3bDfVP4Qxmrkrm/I/JJ237oaE6D90Ae2IqHLwv8yt4DSSc+w/aMObeM6xwz86PFTB+GbGv24QNlyac9C//E+ZB12r4L8LmyFenyLxv2LEIiApKMY/cIWMh/JQB8DIZqYbyLPzvyh+6jrsiQHAC5shXp8i8b8MUWf3tiWvP7yrsuVkjsM/ik+0Rmrr6L+x2JJ+aInwP9uGOOD+NPK/C5shXp8i8b9e0MF1mZHKP9gJuHYou9+/Q02g9FLa079wHEaq3VwGQI+OiZDWVfM/gyJj8fwT4T/pdIf7w1rZv4pJPvPbxPO/mqVzUwZI+T90Q8qkvM/fP6QIlVyD5t8/24Y44P408r8LmyFenyLxvzxF6gbi8Q1AC5shXp8i8b8LmyFenyLxv1TGqYmBB/4/nFeJA4Mj6L+z3Bx+bRbnPzhx6naELqI/Yo5eylhj5D/sCgtnJpfhv+dLbNaVi/O/LL5Sllm/xD+QY2z7pN7SP8vYTCW8iwpAPO+hGJCk5L8U8Mi2ecYDQPKCPXviYOc/EfV4L9/P6D9C5cXyJwfZv1jCbBaWgtm//GWu6utP+j80S5g3odrWv9j5l5d1OPY/riYGZaluDEAg3l/VdBnzPw==\",\"dtype\":\"float64\",\"shape\":[107]},\"doc_color\":[\"brown\",\"brown\",\"brown\",\"brown\",\"brown\",\"brown\",\"brown\",\"brown\",\"brown\",\"brown\",\"brown\",\"brown\",\"brown\",\"brown\",\"brown\",\"brown\",\"brown\",\"brown\",\"brown\",\"brown\",\"brown\",\"brown\",\"brown\",\"brown\",\"brown\",\"brown\",\"brown\",\"brown\",\"brown\",\"brown\",\"brown\",\"brown\",\"brown\",\"brown\",\"brown\",\"brown\",\"brown\",\"brown\",\"green\",\"green\",\"green\",\"green\",\"green\",\"green\",\"green\",\"green\",\"green\",\"green\",\"green\",\"green\",\"green\",\"green\",\"green\",\"green\",\"green\",\"green\",\"green\",\"green\",\"green\",\"green\",\"green\",\"green\",\"green\",\"green\",\"green\",\"green\",\"green\",\"green\",\"green\",\"green\",\"green\",\"green\",\"green\",\"green\",\"green\",\"green\",\"green\",\"green\",\"green\",\"green\",\"green\",\"green\",\"green\",\"green\",\"green\",\"green\",\"green\",\"green\",\"green\",\"green\",\"green\",\"green\",\"green\",\"green\",\"green\",\"green\",\"green\",\"green\",\"green\",\"green\",\"green\",\"green\",\"green\",\"green\",\"green\",\"green\",\"green\"],\"index\":[\"Barcelona\",\"confirm\",\"injury\",\"Ousmane\",\"Dembele\",\"confirmed\",\"winger\",\"suffered\",\"played\",\"November\",\"27\",\"hamstring\",\"problem\",\"club\",\"confirming\",\"setback\",\"training\",\"morning\",\"session\",\"felt\",\"discomfort\",\"right\",\"leg\",\"consequence\",\"muscle\",\"fatigue\",\"read\",\"official\",\"statement\",\"continue\",\"rehabilitation\",\"LaLiga\",\"given\",\"time\",\"frame\",\"potential\",\"return\",\"date\",\"Chelsea\",\"opted\",\"signing\",\"Salomon\",\"Rondon\",\"deadline\",\"day\",\"reportedly\",\"despite\",\"long\",\"search\",\"new\",\"centre\",\"forward\",\"Olivier\",\"Giroud\",\"expected\",\"leave\",\"Blues\",\"targeted\",\"Edinson\",\"Cavani\",\"Dries\",\"Mertens\",\"Moussa\",\"Dembele\",\"end\",\"According\",\"Telegraph\",\"Sport\",\"Dalian\",\"Yifang\",\"offered\",\"prefer\",\"keeping\",\"club\",\"Manchester\",\"United\",\"linked\",\"Venezuela\",\"international\",\"agreeing\",\"deal\",\"Shanghai\",\"Shenhua\",\"striker\",\"Odion\",\"Ighalo\",\"Manager\",\"Frank\",\"Lampard\",\"secret\",\"transfer\",\"window\",\"frustration\",\"hinting\",\"secure\",\"football\",\"needed\",\"signings\",\"draw\",\"Leicester\",\"Saturday\",\"means\",\"won\",\"13\",\"Premier\",\"League\",\"matches\"],\"level_0\":[0,1,2,3,4,5,6,7,8,9,10,11,12,13,14,15,16,17,18,19,20,21,22,23,24,25,26,27,28,29,30,31,32,33,34,35,36,37,0,1,2,3,4,5,6,7,8,9,10,11,12,13,14,15,16,17,18,19,20,21,22,23,24,25,26,27,28,29,30,31,32,33,34,35,36,37,38,39,40,41,42,43,44,45,46,47,48,49,50,51,52,53,54,55,56,57,58,59,60,61,62,63,64,65,66,67,68]},\"selected\":{\"id\":\"3067\"},\"selection_policy\":{\"id\":\"3066\"}},\"id\":\"2947\",\"type\":\"ColumnDataSource\"},{\"attributes\":{},\"id\":\"2936\",\"type\":\"ResetTool\"},{\"attributes\":{},\"id\":\"2916\",\"type\":\"DataRange1d\"},{\"attributes\":{},\"id\":\"2937\",\"type\":\"HelpTool\"},{\"attributes\":{\"formatter\":{\"id\":\"3064\"},\"ticker\":{\"id\":\"2929\"}},\"id\":\"2928\",\"type\":\"LinearAxis\"},{\"attributes\":{},\"id\":\"2932\",\"type\":\"PanTool\"},{\"attributes\":{\"source\":{\"id\":\"2947\"}},\"id\":\"2952\",\"type\":\"CDSView\"},{\"attributes\":{},\"id\":\"2925\",\"type\":\"BasicTicker\"},{\"attributes\":{},\"id\":\"2922\",\"type\":\"LinearScale\"}],\"root_ids\":[\"2913\"]},\"title\":\"Bokeh Application\",\"version\":\"2.0.0\"}};\n",
       "  var render_items = [{\"docid\":\"1afeb61a-dddc-4e53-a36c-10f04de7d284\",\"root_ids\":[\"2913\"],\"roots\":{\"2913\":\"649f4ca4-fd80-4fa3-874f-37059ffa4197\"}}];\n",
       "  root.Bokeh.embed.embed_items_notebook(docs_json, render_items);\n",
       "\n",
       "  }\n",
       "  if (root.Bokeh !== undefined) {\n",
       "    embed_document(root);\n",
       "  } else {\n",
       "    var attempts = 0;\n",
       "    var timer = setInterval(function(root) {\n",
       "      if (root.Bokeh !== undefined) {\n",
       "        clearInterval(timer);\n",
       "        embed_document(root);\n",
       "      } else {\n",
       "        attempts++;\n",
       "        if (attempts > 100) {\n",
       "          clearInterval(timer);\n",
       "          console.log(\"Bokeh: ERROR: Unable to run BokehJS code because BokehJS library is missing\");\n",
       "        }\n",
       "      }\n",
       "    }, 10, root)\n",
       "  }\n",
       "})(window);"
      ],
      "application/vnd.bokehjs_exec.v0+json": ""
     },
     "metadata": {
      "application/vnd.bokehjs_exec.v0+json": {
       "id": "2913"
      }
     },
     "output_type": "display_data"
    }
   ],
   "source": [
    "TOOLTIPS = [\n",
    "    (\"token\", \"@index\"),\n",
    "]\n",
    "p = figure(tooltips=TOOLTIPS,\n",
    "           title=\"2 documents in the 300D embedding space\")\n",
    "source = ColumnDataSource(X_2D)\n",
    "\n",
    "p.circle(\"C1\", \"C2\", source=source, size=10, color=\"doc_color\", alpha=0.5)\n",
    "\n",
    "show(p)"
   ]
  },
  {
   "cell_type": "markdown",
   "metadata": {},
   "source": [
    "# Open questions\n",
    "- Every football specific term will be Out of Vocabulary (OOV). Maybe we should consider combining spacy.Language embeddings with custom football embeddings for those terms?"
   ]
  },
  {
   "cell_type": "markdown",
   "metadata": {},
   "source": [
    "# Bonus: add pre-processing as part of the spacy.Language model"
   ]
  },
  {
   "cell_type": "code",
   "execution_count": null,
   "metadata": {},
   "outputs": [],
   "source": [
    "# TODO: figure out how to load the model properly with pipeline\n",
    "# nlp = FootballLanguage(lang=\"en_core_web_md\").from_disk(\"/Users/louis.guitton/workspace/papers/venv/lib/python3.7/site-packages/en_core_web_md/en_core_web_md-2.2.5\")\n",
    "# this doesn't work\n",
    "class FootballLanguage(Language):\n",
    "    def __call__(self, text, disable=[], component_cfg=None):\n",
    "        text = textacy_preprocessing.remove_accents(\n",
    "            textacy_preprocessing.normalize_quotation_marks(\n",
    "                text\n",
    "            )\n",
    "        )\n",
    "        return super().__call__(text, disable, component_cfg)"
   ]
  },
  {
   "cell_type": "code",
   "execution_count": null,
   "metadata": {},
   "outputs": [],
   "source": [
    "nlp.pipeline"
   ]
  },
  {
   "cell_type": "code",
   "execution_count": null,
   "metadata": {},
   "outputs": [],
   "source": [
    "   @classmethod\n",
    "    def create_spacy_pipeline(cls, nlp, **kwargs):\n",
    "        \"\"\"\n",
    "        Provides the integration with `spaCy <https://spacy.io>`_. Use this the\n",
    "        following way:\n",
    "        ::\n",
    "           nlp = spacy.load('en', create_pipeline=wmd.WMD.create_spacy_pipeline)\n",
    "        Please note that if you are going to search for the nearest documents\n",
    "        then you should use :func:`~wmd.WMD.nearest_neighbors()` instead of\n",
    "        evaluating multiple WMDs pairwise, as the former is much optimized and\n",
    "        provides a lower complexity.\n",
    "        :param nlp: `spaCy language object <https://spacy.io/docs/api/language>`_.\n",
    "        :param kwargs: ignore_stops, only_alpha and frequency_processor. Refer \\\n",
    "                       to :func:`~wmd.WMD.SpacySimilarityHook.__init__()`.\n",
    "        :return: The spaCy pipeline.\n",
    "        :rtype: list.\n",
    "        \"\"\"\n",
    "        return [nlp.tagger, nlp.parser, cls.SpacySimilarityHook(nlp, **kwargs)]"
   ]
  }
 ],
 "metadata": {
  "kernelspec": {
   "display_name": "Python 3",
   "language": "python",
   "name": "python3"
  },
  "language_info": {
   "codemirror_mode": {
    "name": "ipython",
    "version": 3
   },
   "file_extension": ".py",
   "mimetype": "text/x-python",
   "name": "python",
   "nbconvert_exporter": "python",
   "pygments_lexer": "ipython3",
   "version": "3.7.6"
  }
 },
 "nbformat": 4,
 "nbformat_minor": 4
}
