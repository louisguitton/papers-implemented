{
 "cells": [
  {
   "cell_type": "code",
   "execution_count": 19,
   "metadata": {},
   "outputs": [],
   "source": [
    "from typing import List\n",
    "import spacy\n",
    "import pytextrank\n",
    "import pandas as pd\n",
    "import numpy as np\n",
    "from operator import itemgetter\n",
    "from itertools import islice\n",
    "from math import sqrt\n",
    "from sklearn.metrics.pairwise import euclidean_distances\n",
    "from sklearn.preprocessing import normalize"
   ]
  },
  {
   "cell_type": "code",
   "execution_count": 1,
   "metadata": {},
   "outputs": [],
   "source": [
    "text = \"Compatibility of systems of linear constraints over the set of natural numbers. Criteria of compatibility of a system of linear Diophantine equations, strict inequations, and nonstrict inequations are considered. Upper bounds for components of a minimal set of solutions and algorithms of construction of minimal generating sets of solutions for all types of systems are given. These criteria and the corresponding algorithms for constructing a minimal supporting set of solutions can be used in solving all the considered types systems and systems of mixed types.\""
   ]
  },
  {
   "cell_type": "code",
   "execution_count": 11,
   "metadata": {},
   "outputs": [],
   "source": [
    "nlp = spacy.load(\"en_core_web_md\")\n",
    "tr = pytextrank.TextRank()\n",
    "nlp.add_pipe(tr.PipelineComponent, name=\"textrank\", last=True)"
   ]
  },
  {
   "cell_type": "code",
   "execution_count": 12,
   "metadata": {},
   "outputs": [],
   "source": [
    "doc = nlp(text)"
   ]
  },
  {
   "cell_type": "code",
   "execution_count": 17,
   "metadata": {},
   "outputs": [],
   "source": [
    "def summarise(doc: spacy.tokens.Doc) -> List[spacy.tokens.Span]:\n",
    "    def is_part_of(chunk: spacy.tokens.Span, sentence: spacy.tokens.Span):\n",
    "        \"\"\"whether the chunk is part of the sentence\"\"\"\n",
    "        return sentence.start <= chunk.start <= chunk.end <= sentence.end\n",
    "\n",
    "    top_k_keywords = 10\n",
    "\n",
    "    # unit rank vector\n",
    "    U = normalize([[p.rank for p in doc._.phrases[:top_k_keywords]]], norm=\"l1\")\n",
    "\n",
    "    # sentences as bag of keywords\n",
    "    sents_as_bag_of_keywords = [[any(is_part_of(c, s) for c in p.chunks) for s in doc.sents] for p in doc._.phrases[:top_k_keywords]]\n",
    "    BoK = pd.DataFrame(sents_as_bag_of_keywords, index=doc._.phrases[:top_k_keywords]).T.astype(int)\n",
    "\n",
    "    # calculate the euclidean distance of each sentence from the unit vector\n",
    "    dist = euclidean_distances(BoK * U, U)\n",
    "\n",
    "    # extract the sentences with the lowest distance, up to the limite requested\n",
    "    top_k_sentences = 3\n",
    "    idx_for_summary = np.argpartition(dist.reshape(-1), top_k_sentences)[:top_k_sentences]\n",
    "    summary = [next(islice(doc.sents, idx, None)) for idx in idx_for_summary]\n",
    "    \n",
    "    return summary"
   ]
  },
  {
   "cell_type": "code",
   "execution_count": 20,
   "metadata": {},
   "outputs": [
    {
     "data": {
      "text/plain": [
       "[These criteria and the corresponding algorithms for constructing a minimal supporting set of solutions can be used in solving all the considered types systems and systems of mixed types.,\n",
       " Criteria of compatibility of a system of linear Diophantine equations, strict inequations, and nonstrict inequations are considered.,\n",
       " Upper bounds for components of a minimal set of solutions and algorithms of construction of minimal generating sets of solutions for all types of systems are given.]"
      ]
     },
     "execution_count": 20,
     "metadata": {},
     "output_type": "execute_result"
    }
   ],
   "source": [
    "summarise(doc)"
   ]
  },
  {
   "cell_type": "code",
   "execution_count": null,
   "metadata": {},
   "outputs": [],
   "source": []
  }
 ],
 "metadata": {
  "kernelspec": {
   "display_name": "Python 3",
   "language": "python",
   "name": "python3"
  },
  "language_info": {
   "codemirror_mode": {
    "name": "ipython",
    "version": 3
   },
   "file_extension": ".py",
   "mimetype": "text/x-python",
   "name": "python",
   "nbconvert_exporter": "python",
   "pygments_lexer": "ipython3",
   "version": "3.7.7"
  }
 },
 "nbformat": 4,
 "nbformat_minor": 4
}
