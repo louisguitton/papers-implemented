{
 "cells": [
  {
   "cell_type": "code",
   "execution_count": 1,
   "metadata": {},
   "outputs": [],
   "source": [
    "import spacy"
   ]
  },
  {
   "cell_type": "markdown",
   "metadata": {},
   "source": [
    "References:\n",
    "- https://github.com/oborchers/Fast_Sentence_Embeddings"
   ]
  },
  {
   "cell_type": "code",
   "execution_count": 6,
   "metadata": {},
   "outputs": [
    {
     "name": "stdout",
     "output_type": "stream",
     "text": [
      "Requirement already satisfied: fse in /Users/louis.guitton/workspace/papers/venv/lib/python3.8/site-packages (0.1.15)\n",
      "Collecting gensim==3.8\n",
      "  Downloading gensim-3.8.0.tar.gz (23.4 MB)\n",
      "\u001b[K     |████████████████████████████████| 23.4 MB 16.5 MB/s eta 0:00:01\n",
      "\u001b[?25hRequirement already satisfied: numpy>=1.11.3 in /Users/louis.guitton/workspace/papers/venv/lib/python3.8/site-packages (from fse) (1.19.4)\n",
      "Requirement already satisfied: smart-open>=1.5.0 in /Users/louis.guitton/workspace/papers/venv/lib/python3.8/site-packages (from fse) (4.1.2)\n",
      "Requirement already satisfied: wordfreq>=2.2.1 in /Users/louis.guitton/workspace/papers/venv/lib/python3.8/site-packages (from fse) (2.5.0)\n",
      "Requirement already satisfied: scikit-learn>=0.19.1 in /Users/louis.guitton/workspace/papers/venv/lib/python3.8/site-packages (from fse) (0.23.2)\n",
      "Requirement already satisfied: scipy>=0.18.1 in /Users/louis.guitton/workspace/papers/venv/lib/python3.8/site-packages (from fse) (1.5.4)\n",
      "Requirement already satisfied: psutil in /Users/louis.guitton/workspace/papers/venv/lib/python3.8/site-packages (from fse) (5.8.0)\n",
      "Requirement already satisfied: six>=1.5.0 in /Users/louis.guitton/workspace/papers/venv/lib/python3.8/site-packages (from gensim==3.8) (1.15.0)\n",
      "Requirement already satisfied: langcodes>=3.0 in /Users/louis.guitton/workspace/papers/venv/lib/python3.8/site-packages (from wordfreq>=2.2.1->fse) (3.1.0)\n",
      "Requirement already satisfied: msgpack>=1.0 in /Users/louis.guitton/workspace/papers/venv/lib/python3.8/site-packages (from wordfreq>=2.2.1->fse) (1.0.2)\n",
      "Requirement already satisfied: regex>=2020.04.04 in /Users/louis.guitton/workspace/papers/venv/lib/python3.8/site-packages (from wordfreq>=2.2.1->fse) (2020.11.13)\n",
      "Requirement already satisfied: threadpoolctl>=2.0.0 in /Users/louis.guitton/workspace/papers/venv/lib/python3.8/site-packages (from scikit-learn>=0.19.1->fse) (2.1.0)\n",
      "Requirement already satisfied: joblib>=0.11 in /Users/louis.guitton/workspace/papers/venv/lib/python3.8/site-packages (from scikit-learn>=0.19.1->fse) (0.17.0)\n",
      "Building wheels for collected packages: gensim\n",
      "  Building wheel for gensim (setup.py) ... \u001b[?25ldone\n",
      "\u001b[?25h  Created wheel for gensim: filename=gensim-3.8.0-cp38-cp38-macosx_10_15_x86_64.whl size=24202809 sha256=18be371cb83a28493e7ec0539cb1c3e21eff92ed284fcfb49bbf9add708374ea\n",
      "  Stored in directory: /Users/louis.guitton/Library/Caches/pip/wheels/09/d1/44/6d6dcb820e282b40ccfce6d2bb0101c24d7fffd863b2276783\n",
      "Successfully built gensim\n",
      "Installing collected packages: gensim\n",
      "  Attempting uninstall: gensim\n",
      "    Found existing installation: gensim 4.0.1\n",
      "    Uninstalling gensim-4.0.1:\n",
      "      Successfully uninstalled gensim-4.0.1\n",
      "\u001b[31mERROR: After October 2020 you may experience errors when installing or updating packages. This is because pip will change the way that it resolves dependency conflicts.\n",
      "\n",
      "We recommend you use --use-feature=2020-resolver to test your packages with the new resolver before it becomes the default.\n",
      "\n",
      "kglab 0.2.0 requires gensim>=3.8.3, but you'll have gensim 3.8.0 which is incompatible.\u001b[0m\n",
      "Successfully installed gensim-3.8.0\n",
      "\u001b[33mWARNING: You are using pip version 20.2.1; however, version 21.1.1 is available.\n",
      "You should consider upgrading via the '/Users/louis.guitton/workspace/papers/venv/bin/python -m pip install --upgrade pip' command.\u001b[0m\n"
     ]
    }
   ],
   "source": [
    "!pip install fse gensim==3.8"
   ]
  },
  {
   "cell_type": "code",
   "execution_count": 7,
   "metadata": {},
   "outputs": [
    {
     "name": "stderr",
     "output_type": "stream",
     "text": [
      "[autoreload of gensim.models.keyedvectors failed: Traceback (most recent call last):\n",
      "  File \"/Users/louis.guitton/workspace/papers/venv/lib/python3.8/site-packages/IPython/extensions/autoreload.py\", line 245, in check\n",
      "    superreload(m, reload, self.old_objects)\n",
      "  File \"/Users/louis.guitton/workspace/papers/venv/lib/python3.8/site-packages/IPython/extensions/autoreload.py\", line 410, in superreload\n",
      "    update_generic(old_obj, new_obj)\n",
      "  File \"/Users/louis.guitton/workspace/papers/venv/lib/python3.8/site-packages/IPython/extensions/autoreload.py\", line 347, in update_generic\n",
      "    update(a, b)\n",
      "  File \"/Users/louis.guitton/workspace/papers/venv/lib/python3.8/site-packages/IPython/extensions/autoreload.py\", line 302, in update_class\n",
      "    if update_generic(old_obj, new_obj): continue\n",
      "  File \"/Users/louis.guitton/workspace/papers/venv/lib/python3.8/site-packages/IPython/extensions/autoreload.py\", line 347, in update_generic\n",
      "    update(a, b)\n",
      "  File \"/Users/louis.guitton/workspace/papers/venv/lib/python3.8/site-packages/IPython/extensions/autoreload.py\", line 266, in update_function\n",
      "    setattr(old, name, getattr(new, name))\n",
      "ValueError: __init__() requires a code object with 0 free vars, not 1\n",
      "]\n",
      "[autoreload of gensim.models.word2vec failed: Traceback (most recent call last):\n",
      "  File \"/Users/louis.guitton/workspace/papers/venv/lib/python3.8/site-packages/IPython/extensions/autoreload.py\", line 245, in check\n",
      "    superreload(m, reload, self.old_objects)\n",
      "  File \"/Users/louis.guitton/workspace/papers/venv/lib/python3.8/site-packages/IPython/extensions/autoreload.py\", line 410, in superreload\n",
      "    update_generic(old_obj, new_obj)\n",
      "  File \"/Users/louis.guitton/workspace/papers/venv/lib/python3.8/site-packages/IPython/extensions/autoreload.py\", line 347, in update_generic\n",
      "    update(a, b)\n",
      "  File \"/Users/louis.guitton/workspace/papers/venv/lib/python3.8/site-packages/IPython/extensions/autoreload.py\", line 302, in update_class\n",
      "    if update_generic(old_obj, new_obj): continue\n",
      "  File \"/Users/louis.guitton/workspace/papers/venv/lib/python3.8/site-packages/IPython/extensions/autoreload.py\", line 347, in update_generic\n",
      "    update(a, b)\n",
      "  File \"/Users/louis.guitton/workspace/papers/venv/lib/python3.8/site-packages/IPython/extensions/autoreload.py\", line 266, in update_function\n",
      "    setattr(old, name, getattr(new, name))\n",
      "ValueError: __init__() requires a code object with 0 free vars, not 1\n",
      "]\n",
      "[autoreload of gensim.models.doc2vec failed: Traceback (most recent call last):\n",
      "  File \"/Users/louis.guitton/workspace/papers/venv/lib/python3.8/site-packages/IPython/extensions/autoreload.py\", line 245, in check\n",
      "    superreload(m, reload, self.old_objects)\n",
      "  File \"/Users/louis.guitton/workspace/papers/venv/lib/python3.8/site-packages/IPython/extensions/autoreload.py\", line 410, in superreload\n",
      "    update_generic(old_obj, new_obj)\n",
      "  File \"/Users/louis.guitton/workspace/papers/venv/lib/python3.8/site-packages/IPython/extensions/autoreload.py\", line 347, in update_generic\n",
      "    update(a, b)\n",
      "  File \"/Users/louis.guitton/workspace/papers/venv/lib/python3.8/site-packages/IPython/extensions/autoreload.py\", line 302, in update_class\n",
      "    if update_generic(old_obj, new_obj): continue\n",
      "  File \"/Users/louis.guitton/workspace/papers/venv/lib/python3.8/site-packages/IPython/extensions/autoreload.py\", line 347, in update_generic\n",
      "    update(a, b)\n",
      "  File \"/Users/louis.guitton/workspace/papers/venv/lib/python3.8/site-packages/IPython/extensions/autoreload.py\", line 266, in update_function\n",
      "    setattr(old, name, getattr(new, name))\n",
      "ValueError: __repr__() requires a code object with 2 free vars, not 1\n",
      "]\n",
      "[autoreload of gensim.models.phrases failed: Traceback (most recent call last):\n",
      "  File \"/Users/louis.guitton/workspace/papers/venv/lib/python3.8/site-packages/IPython/extensions/autoreload.py\", line 245, in check\n",
      "    superreload(m, reload, self.old_objects)\n",
      "  File \"/Users/louis.guitton/workspace/papers/venv/lib/python3.8/site-packages/IPython/extensions/autoreload.py\", line 410, in superreload\n",
      "    update_generic(old_obj, new_obj)\n",
      "  File \"/Users/louis.guitton/workspace/papers/venv/lib/python3.8/site-packages/IPython/extensions/autoreload.py\", line 347, in update_generic\n",
      "    update(a, b)\n",
      "  File \"/Users/louis.guitton/workspace/papers/venv/lib/python3.8/site-packages/IPython/extensions/autoreload.py\", line 302, in update_class\n",
      "    if update_generic(old_obj, new_obj): continue\n",
      "  File \"/Users/louis.guitton/workspace/papers/venv/lib/python3.8/site-packages/IPython/extensions/autoreload.py\", line 347, in update_generic\n",
      "    update(a, b)\n",
      "  File \"/Users/louis.guitton/workspace/papers/venv/lib/python3.8/site-packages/IPython/extensions/autoreload.py\", line 266, in update_function\n",
      "    setattr(old, name, getattr(new, name))\n",
      "ValueError: __init__() requires a code object with 1 free vars, not 0\n",
      "]\n",
      "[autoreload of gensim.models.fasttext failed: Traceback (most recent call last):\n",
      "  File \"/Users/louis.guitton/workspace/papers/venv/lib/python3.8/site-packages/IPython/extensions/autoreload.py\", line 245, in check\n",
      "    superreload(m, reload, self.old_objects)\n",
      "  File \"/Users/louis.guitton/workspace/papers/venv/lib/python3.8/site-packages/IPython/extensions/autoreload.py\", line 410, in superreload\n",
      "    update_generic(old_obj, new_obj)\n",
      "  File \"/Users/louis.guitton/workspace/papers/venv/lib/python3.8/site-packages/IPython/extensions/autoreload.py\", line 347, in update_generic\n",
      "    update(a, b)\n",
      "  File \"/Users/louis.guitton/workspace/papers/venv/lib/python3.8/site-packages/IPython/extensions/autoreload.py\", line 302, in update_class\n",
      "    if update_generic(old_obj, new_obj): continue\n",
      "  File \"/Users/louis.guitton/workspace/papers/venv/lib/python3.8/site-packages/IPython/extensions/autoreload.py\", line 347, in update_generic\n",
      "    update(a, b)\n",
      "  File \"/Users/louis.guitton/workspace/papers/venv/lib/python3.8/site-packages/IPython/extensions/autoreload.py\", line 266, in update_function\n",
      "    setattr(old, name, getattr(new, name))\n",
      "ValueError: _load_specials() requires a code object with 1 free vars, not 0\n",
      "]\n"
     ]
    }
   ],
   "source": [
    "from gensim.models import FastText\n",
    "from fse.models import Average\n",
    "from fse import IndexedList"
   ]
  },
  {
   "cell_type": "code",
   "execution_count": 8,
   "metadata": {},
   "outputs": [
    {
     "name": "stderr",
     "output_type": "stream",
     "text": [
      "/Users/louis.guitton/workspace/papers/venv/lib/python3.8/site-packages/gensim/models/base_any2vec.py:742: UserWarning: C extension not loaded, training will be slow. Install a C compiler and reinstall gensim for fast training.\n",
      "  warnings.warn(\n",
      "/Users/louis.guitton/workspace/papers/venv/lib/python3.8/site-packages/fse/models/base_s2v.py:114: UserWarning: C extension not loaded, training/inferring will be slow. Install a C compiler and reinstall fse.\n",
      "  warnings.warn(\n"
     ]
    },
    {
     "data": {
      "text/plain": [
       "0.4804146"
      ]
     },
     "execution_count": 8,
     "metadata": {},
     "output_type": "execute_result"
    }
   ],
   "source": [
    "sentences = [[\"cat\", \"say\", \"meow\"], [\"dog\", \"say\", \"woof\"]]\n",
    "ft = FastText(sentences, min_count=1, size=10)\n",
    "\n",
    "model = Average(ft)\n",
    "model.train(IndexedList(sentences))\n",
    "\n",
    "model.sv.similarity(0, 1)"
   ]
  },
  {
   "cell_type": "code",
   "execution_count": 9,
   "metadata": {},
   "outputs": [],
   "source": [
    "text = \"\"\"\n",
    "Chelsea 'opted against' signing Salomon Rondón on deadline day.\n",
    "\n",
    "Chelsea reportedly opted against signing Salomón Rondón on deadline day despite their long search for a new centre forward.\n",
    "With Olivier Giroud expected to leave, the Blues targeted Edinson Cavani, Dries Mertens and Moussa Dembele – only to end up with none of them.\n",
    "According to Telegraph Sport, Dalian Yifang offered Rondón to Chelsea only for them to prefer keeping Giroud at the club.\n",
    "Manchester United were also linked with the Venezuela international before agreeing a deal for Shanghai Shenhua striker Odion Ighalo.\n",
    "Manager Frank Lampard made no secret of his transfer window frustration, hinting that to secure top four football he ‘needed’ signings.\n",
    "Their draw against Leicester on Saturday means they have won just four of the last 13 Premier League matches.\n",
    "\"\"\"\n",
    "nlp = spacy.load(\"en_core_web_sm\")\n",
    "doc = nlp(text)"
   ]
  },
  {
   "cell_type": "code",
   "execution_count": 23,
   "metadata": {},
   "outputs": [],
   "source": [
    "sentences = [[tok.text for tok in sent if not (tok.is_stop or tok.is_punct or tok.is_space)] for sent in doc.sents]"
   ]
  },
  {
   "cell_type": "code",
   "execution_count": 24,
   "metadata": {},
   "outputs": [
    {
     "name": "stderr",
     "output_type": "stream",
     "text": [
      "/Users/louis.guitton/workspace/papers/venv/lib/python3.8/site-packages/gensim/models/base_any2vec.py:742: UserWarning: C extension not loaded, training will be slow. Install a C compiler and reinstall gensim for fast training.\n",
      "  warnings.warn(\n",
      "/Users/louis.guitton/workspace/papers/venv/lib/python3.8/site-packages/fse/models/base_s2v.py:114: UserWarning: C extension not loaded, training/inferring will be slow. Install a C compiler and reinstall fse.\n",
      "  warnings.warn(\n"
     ]
    },
    {
     "data": {
      "text/plain": [
       "(7, 79)"
      ]
     },
     "execution_count": 24,
     "metadata": {},
     "output_type": "execute_result"
    }
   ],
   "source": [
    "ft = FastText(sentences, min_count=1, size=50)\n",
    "\n",
    "model = Average(ft)\n",
    "model.train(IndexedList(sentences))"
   ]
  },
  {
   "cell_type": "code",
   "execution_count": 25,
   "metadata": {},
   "outputs": [
    {
     "data": {
      "text/plain": [
       "-0.3174836"
      ]
     },
     "execution_count": 25,
     "metadata": {},
     "output_type": "execute_result"
    }
   ],
   "source": [
    "model.sv.similarity(0, 6)"
   ]
  },
  {
   "cell_type": "code",
   "execution_count": 30,
   "metadata": {},
   "outputs": [],
   "source": [
    "import numpy as np"
   ]
  },
  {
   "cell_type": "code",
   "execution_count": 32,
   "metadata": {},
   "outputs": [],
   "source": [
    "centroid = np.average([model.sv.get_vector(i) for i, _ in enumerate(sentences)], axis=0)"
   ]
  },
  {
   "cell_type": "code",
   "execution_count": 34,
   "metadata": {},
   "outputs": [
    {
     "data": {
      "text/plain": [
       "[((['Chelsea', 'opted', 'signing', 'Salomon', 'Rondón', 'deadline', 'day'], 0),\n",
       "  0,\n",
       "  0.5739306807518005),\n",
       " ((['Olivier',\n",
       "    'Giroud',\n",
       "    'expected',\n",
       "    'leave',\n",
       "    'Blues',\n",
       "    'targeted',\n",
       "    'Edinson',\n",
       "    'Cavani',\n",
       "    'Dries',\n",
       "    'Mertens',\n",
       "    'Moussa',\n",
       "    'Dembele',\n",
       "    'end'],\n",
       "   2),\n",
       "  2,\n",
       "  0.5100725293159485),\n",
       " ((['Chelsea',\n",
       "    'reportedly',\n",
       "    'opted',\n",
       "    'signing',\n",
       "    'Salomón',\n",
       "    'Rondón',\n",
       "    'deadline',\n",
       "    'day',\n",
       "    'despite',\n",
       "    'long',\n",
       "    'search',\n",
       "    'new',\n",
       "    'centre',\n",
       "    'forward'],\n",
       "   1),\n",
       "  1,\n",
       "  0.5038480758666992)]"
      ]
     },
     "execution_count": 34,
     "metadata": {},
     "output_type": "execute_result"
    }
   ],
   "source": [
    "model.sv.similar_by_vector(vector=centroid, indexable=IndexedList(sentences), topn=3)"
   ]
  },
  {
   "cell_type": "code",
   "execution_count": null,
   "metadata": {},
   "outputs": [],
   "source": []
  }
 ],
 "metadata": {
  "kernelspec": {
   "display_name": "Python 3",
   "language": "python",
   "name": "python3"
  },
  "language_info": {
   "codemirror_mode": {
    "name": "ipython",
    "version": 3
   },
   "file_extension": ".py",
   "mimetype": "text/x-python",
   "name": "python",
   "nbconvert_exporter": "python",
   "pygments_lexer": "ipython3",
   "version": "3.8.6"
  }
 },
 "nbformat": 4,
 "nbformat_minor": 4
}
